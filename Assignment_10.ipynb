{
  "nbformat": 4,
  "nbformat_minor": 0,
  "metadata": {
    "colab": {
      "provenance": []
    },
    "kernelspec": {
      "name": "python3",
      "display_name": "Python 3"
    },
    "language_info": {
      "name": "python"
    }
  },
  "cells": [
    {
      "cell_type": "markdown",
      "source": [
        "##Q1. What is the difference between __getattr__ and __getattribute__?\n",
        "\n",
        "### ANS Normally, if we want to access the attribute of a class, we access it with instance of the class like instance.attribute_name. These attributes are already present in the class. Where as, to access the attribute of class which are not defined in the class, we use getattr() method.\n",
        "\n",
        "###But if the attribute does exist, getattr won’t be invoked"
      ],
      "metadata": {
        "id": "yQ_WOR4Sycwl"
      }
    },
    {
      "cell_type": "code",
      "source": [
        "class Sample:\n",
        "  def __init__(self,address):\n",
        "    self.address = address\n",
        "\n",
        "  def __getattr__(self,name):\n",
        "    return name.lower()\n",
        "\n",
        "s = Sample('Delhi')\n",
        "print(s.address)          # existing attribute\n",
        "print(s.ABCD)             # ABCD is not defined in class"
      ],
      "metadata": {
        "colab": {
          "base_uri": "https://localhost:8080/"
        },
        "id": "doYhnZsmzYjf",
        "outputId": "99bf00b7-2724-401b-ed36-1bde3d232843"
      },
      "execution_count": 1,
      "outputs": [
        {
          "output_type": "stream",
          "name": "stdout",
          "text": [
            "Delhi\n",
            "abcd\n"
          ]
        }
      ]
    },
    {
      "cell_type": "markdown",
      "source": [
        "###getattribute will look for every attribute, doesn’t matter if the attribute exists or not."
      ],
      "metadata": {
        "id": "kvuqqdbNz7mQ"
      }
    },
    {
      "cell_type": "code",
      "source": [
        "class Sample1:\n",
        "  def __getattribute__(self, attr):\n",
        "    return 'New Value'\n",
        "\n",
        "a = Sample1()\n",
        "a.value = 'Old value'\n",
        "print(a.value)"
      ],
      "metadata": {
        "colab": {
          "base_uri": "https://localhost:8080/"
        },
        "id": "Ltb0HAXxz-kg",
        "outputId": "f197a7b1-d976-4717-866b-559149f44919"
      },
      "execution_count": 2,
      "outputs": [
        {
          "output_type": "stream",
          "name": "stdout",
          "text": [
            "New Value\n"
          ]
        }
      ]
    },
    {
      "cell_type": "markdown",
      "source": [
        "##Q2. What is the difference between properties and descriptors?\n",
        "\n",
        "### ANS In Properties, We can bind getter, setter functions with an attribute name, using the built-in property function. In descriptor, We can bind getter, setter (and deleter) functions into a separate class. We then assign an object of this class to the attribute name.\n"
      ],
      "metadata": {
        "id": "QKO5jZmByd1O"
      }
    },
    {
      "cell_type": "markdown",
      "source": [
        "##Q3. What are the key differences in functionality between __getattr__ and __getattribute__, as well as properties and descriptors?\n",
        "### ANS To access the attribute of class which are not defined in the class, we use getattr() method. But if the attribute does exist, getattr won’t be invoked. getattribute will look for every attribute, doesn’t matter if the attribute exists or not.\n",
        "\n",
        "###In Properties, We can bind getter, setter functions with an attribute name, using the built-in property function. In descriptor, We can bind getter, setter (and deleter) functions into a separate class. We then assign an object of this class to the attribute name."
      ],
      "metadata": {
        "id": "_e4gO8jYyd4t"
      }
    }
  ]
}