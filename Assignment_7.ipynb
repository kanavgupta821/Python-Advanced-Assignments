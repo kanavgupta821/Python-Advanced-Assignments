{
  "nbformat": 4,
  "nbformat_minor": 0,
  "metadata": {
    "colab": {
      "provenance": []
    },
    "kernelspec": {
      "name": "python3",
      "display_name": "Python 3"
    },
    "language_info": {
      "name": "python"
    }
  },
  "cells": [
    {
      "cell_type": "markdown",
      "source": [
        "##Q1. What is the purpose of the try statement?\n",
        "\n",
        "### ANS A Try-Except statement is a code block that allows your program to take alternative actions in case an error occurs. Python will first attempt to execute the code in the try statement (code block 1). If no exception occurs, the except statement is skipped and the execution of the try statement is finished."
      ],
      "metadata": {
        "id": "8ilCkVNEhQoO"
      }
    },
    {
      "cell_type": "markdown",
      "source": [
        "##Q2. What are the two most popular try statement variations?\n",
        "\n",
        "### ANS There are two other optional segments to a try block: else and finally. Both of these optional blocks will come after the try and the except.\n",
        "\n",
        "### 1. Try/Except/Else\n",
        "#####When attaching an else statement to the end of a try/except, this code will be executed after the try has been completed, but only if no exceptions occur.\n",
        "\n",
        "### 2. Try/Except/Finally\n",
        "#####When attaching a finally statement to the end of a try/except, this code will be executed after the try has been completed, regardless of exceptions."
      ],
      "metadata": {
        "id": "pKqYWfclhQ_i"
      }
    },
    {
      "cell_type": "markdown",
      "source": [
        "##Q3. What is the purpose of the raise statement?\n",
        "\n",
        "### ANS raise Keyword is used to raise exceptions or errors. The raise keyword raises an error and stops the control flow of the program.\n"
      ],
      "metadata": {
        "id": "js1ifAHhhRCJ"
      }
    },
    {
      "cell_type": "markdown",
      "source": [
        "##Q4. What does the assert statement do, and what other statement is it like?\n",
        "\n",
        "### ANS The assert statement lets you test if a condition in your code returns True, if not, the program will raise an AssertionError. It is like raise statement, where we can create our custom exceptions."
      ],
      "metadata": {
        "id": "UD9l_-AXhREv"
      }
    },
    {
      "cell_type": "code",
      "source": [
        "x = 0\n",
        "assert x > 0,  'number should be greater than 0'\n",
        "print('even')"
      ],
      "metadata": {
        "colab": {
          "base_uri": "https://localhost:8080/",
          "height": 200
        },
        "id": "4JII_sxUjFVH",
        "outputId": "5f4e6656-c845-4011-8553-48b5cb91626d"
      },
      "execution_count": 1,
      "outputs": [
        {
          "output_type": "error",
          "ename": "AssertionError",
          "evalue": "ignored",
          "traceback": [
            "\u001b[0;31m---------------------------------------------------------------------------\u001b[0m",
            "\u001b[0;31mAssertionError\u001b[0m                            Traceback (most recent call last)",
            "\u001b[0;32m<ipython-input-1-865d8e9f7d61>\u001b[0m in \u001b[0;36m<module>\u001b[0;34m\u001b[0m\n\u001b[1;32m      1\u001b[0m \u001b[0mx\u001b[0m \u001b[0;34m=\u001b[0m \u001b[0;36m0\u001b[0m\u001b[0;34m\u001b[0m\u001b[0;34m\u001b[0m\u001b[0m\n\u001b[0;32m----> 2\u001b[0;31m \u001b[0;32massert\u001b[0m \u001b[0mx\u001b[0m \u001b[0;34m>\u001b[0m \u001b[0;36m0\u001b[0m\u001b[0;34m,\u001b[0m  \u001b[0;34m'number should be greater than 0'\u001b[0m\u001b[0;34m\u001b[0m\u001b[0;34m\u001b[0m\u001b[0m\n\u001b[0m\u001b[1;32m      3\u001b[0m \u001b[0mprint\u001b[0m\u001b[0;34m(\u001b[0m\u001b[0;34m'even'\u001b[0m\u001b[0;34m)\u001b[0m\u001b[0;34m\u001b[0m\u001b[0;34m\u001b[0m\u001b[0m\n",
            "\u001b[0;31mAssertionError\u001b[0m: number should be greater than 0"
          ]
        }
      ]
    },
    {
      "cell_type": "markdown",
      "source": [
        "##Q5. What is the purpose of the with/as argument, and what other statement is it like?\n",
        "### ANS The with statement in Python is used for resource management and exception handling. You'd most likely find it when working with file streams. For example, the statement ensures that the file stream process doesn't block other processes if an exception is raised, but terminates properly.\n",
        "###when \"as\" is used after \"with\", it will reassign the the returned object to a new identifier."
      ],
      "metadata": {
        "id": "YPPhr0j5hRIM"
      }
    }
  ]
}