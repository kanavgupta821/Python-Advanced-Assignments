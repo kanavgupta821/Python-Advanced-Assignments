{
  "nbformat": 4,
  "nbformat_minor": 0,
  "metadata": {
    "colab": {
      "provenance": []
    },
    "kernelspec": {
      "name": "python3",
      "display_name": "Python 3"
    },
    "language_info": {
      "name": "python"
    }
  },
  "cells": [
    {
      "cell_type": "markdown",
      "source": [
        "##Q1. Does assigning a value to a string&#39;s indexed character violate Python&#39;s string immutability?\n",
        "### ANS Yes. It is beacause of string immutability that means we can not change the characters in string by assigning new values to indexes.\n"
      ],
      "metadata": {
        "id": "-1xCutzdxyqw"
      }
    },
    {
      "cell_type": "markdown",
      "source": [
        "##Q2. Does using the += operator to concatenate strings violate Python&#39;s string immutability? Why or why not?\n",
        "\n",
        "### ANS No. When we concatenate string, we assign new value to the same string variable. We are not altering string based on the indexes, so it won't violate Python's string immutability"
      ],
      "metadata": {
        "id": "LX_Ct97Fxytd"
      }
    },
    {
      "cell_type": "markdown",
      "source": [
        "##Q3. In Python, how many different ways are there to index a character?\n",
        "\n",
        "### ANS Indexing means referring to an element of an iterable by its position within the iterable. Each of a string’s characters corresponds to an index number and each character can be accessed using its index number. We can access characters in a String in Two ways :\n",
        "\n",
        " \n",
        "\n",
        "1.   Accessing Characters by Positive Index Number\n",
        "2.   Accessing Characters by Negative Index Number\n",
        "\n"
      ],
      "metadata": {
        "id": "3-StFSpCxy3U"
      }
    },
    {
      "cell_type": "markdown",
      "source": [
        "##Q4. What is the relationship between indexing and slicing?\n",
        "\n",
        "### ANS “Indexing” means referring to an element of an iterable by its position within the iterable. “Slicing” means getting a subset of elements from an iterable based on their indices."
      ],
      "metadata": {
        "id": "5jIuLLrKxy9Z"
      }
    },
    {
      "cell_type": "code",
      "source": [
        "a = 'ineuron'\n",
        "\n",
        "print(a[3])        # indexing\n",
        "print(a[2:5])      # slicing"
      ],
      "metadata": {
        "colab": {
          "base_uri": "https://localhost:8080/"
        },
        "id": "UP6P1rbazmtQ",
        "outputId": "76234c7f-5e86-4ffe-fc94-c47fde51ee17"
      },
      "execution_count": 1,
      "outputs": [
        {
          "output_type": "stream",
          "name": "stdout",
          "text": [
            "u\n",
            "eur\n"
          ]
        }
      ]
    },
    {
      "cell_type": "markdown",
      "source": [
        "##Q5. What is an indexed character&#39;s exact data type? What is the data form of a slicing-generated substring?\n",
        "\n",
        "### ANS for both cases, it is 'str' type."
      ],
      "metadata": {
        "id": "zVPwn7G8xzAB"
      }
    },
    {
      "cell_type": "markdown",
      "source": [
        "##Q6. What is the relationship between string and character &quot;types&quot; in Python?\n",
        "### ANS In Python, There is no char data type, even a single character enclosed in doubble quotes is considered as str.\n",
        "\n"
      ],
      "metadata": {
        "id": "VhtXNt3qxzC3"
      }
    },
    {
      "cell_type": "markdown",
      "source": [
        "##Q7. Identify at least two operators and one method that allow you to combine one or more smaller strings to create a larger string.\n",
        "### ANS \"+\" will concatenate two strings and \"*\" will repeat the string number of times mentioned. We can also use join() method for getting a larger string.\n",
        "\n"
      ],
      "metadata": {
        "id": "tlIzQT6IxzFq"
      }
    },
    {
      "cell_type": "code",
      "source": [
        "print('Hello ' + 'World')\n",
        "print('abc' * 3)\n",
        "a = ['hello', 'world']\n",
        "print(' '.join(a))"
      ],
      "metadata": {
        "colab": {
          "base_uri": "https://localhost:8080/"
        },
        "id": "tIk3ZPqh0HBS",
        "outputId": "c15979ed-e728-46cd-9a30-11953fc026a5"
      },
      "execution_count": 3,
      "outputs": [
        {
          "output_type": "stream",
          "name": "stdout",
          "text": [
            "Hello World\n",
            "abcabcabc\n",
            "hello world\n"
          ]
        }
      ]
    },
    {
      "cell_type": "markdown",
      "source": [
        "##Q8. What is the benefit of first checking the target string with in or not in before using the index method to find a substring?\n",
        "\n",
        "### ANS Normally, when we use index() method it will return the starting index of a substring, if substring is present in a string. But the major concern is if a substring is not present in a string, index() will return a ValueError. To avoid this, we can first check the target string with in or not in before using the index method to find a substring."
      ],
      "metadata": {
        "id": "6w-2MczPxzI2"
      }
    },
    {
      "cell_type": "code",
      "source": [
        "a = 'abcdefghijk'\n",
        "b = 'xyz'\n",
        "if b in a:\n",
        "  print(a.index(b))\n",
        "\n",
        "a.index(b)"
      ],
      "metadata": {
        "colab": {
          "base_uri": "https://localhost:8080/",
          "height": 200
        },
        "id": "Wx6LaE730x5Q",
        "outputId": "61f8ceea-b4c1-42aa-8060-01bc8fe4f6ac"
      },
      "execution_count": 5,
      "outputs": [
        {
          "output_type": "error",
          "ename": "ValueError",
          "evalue": "ignored",
          "traceback": [
            "\u001b[0;31m---------------------------------------------------------------------------\u001b[0m",
            "\u001b[0;31mValueError\u001b[0m                                Traceback (most recent call last)",
            "\u001b[0;32m<ipython-input-5-de5128d919d8>\u001b[0m in \u001b[0;36m<module>\u001b[0;34m\u001b[0m\n\u001b[1;32m      4\u001b[0m   \u001b[0mprint\u001b[0m\u001b[0;34m(\u001b[0m\u001b[0ma\u001b[0m\u001b[0;34m.\u001b[0m\u001b[0mindex\u001b[0m\u001b[0;34m(\u001b[0m\u001b[0mb\u001b[0m\u001b[0;34m)\u001b[0m\u001b[0;34m)\u001b[0m\u001b[0;34m\u001b[0m\u001b[0;34m\u001b[0m\u001b[0m\n\u001b[1;32m      5\u001b[0m \u001b[0;34m\u001b[0m\u001b[0m\n\u001b[0;32m----> 6\u001b[0;31m \u001b[0ma\u001b[0m\u001b[0;34m.\u001b[0m\u001b[0mindex\u001b[0m\u001b[0;34m(\u001b[0m\u001b[0mb\u001b[0m\u001b[0;34m)\u001b[0m\u001b[0;34m\u001b[0m\u001b[0;34m\u001b[0m\u001b[0m\n\u001b[0m",
            "\u001b[0;31mValueError\u001b[0m: substring not found"
          ]
        }
      ]
    },
    {
      "cell_type": "markdown",
      "source": [
        "##Q9. Which operators and built-in string methods produce simple Boolean (true/false) results?\n",
        "### ANS Operators:\n",
        "\n",
        "    1. Comparison operators : (== ,!= ,< ,> ,<=, >=) \n",
        "    2. Logical Operators : (and, or, not)\n",
        "    3. Identity Operators : (is , is not)\n",
        "    4. Membership Operators : (in, not in)\n",
        "\n",
        "String methods:\n",
        "\n",
        "    1. endswith() : Returns true if the string ends with the specified value \n",
        "    2. isalnum()\tReturns True if all characters in the string are alphanumeric        \n",
        "    3. isalpha()\tReturns True if all characters in the string are in the alphabet        \n",
        "    4. isdecimal()\tReturns True if all characters in the string are decimals       \n",
        "    5. isdigit()\tReturns True if all characters in the string are digits        \n",
        "    6. isidentifier()\tReturns True if the string is an identifier        \n",
        "    7. islower()\tReturns True if all characters in the string are lower case        \n",
        "    8. isnumeric()\tReturns True if all characters in the string are numeric        \n",
        "    9. isprintable()\tReturns True if all characters in the string are printable        \n",
        "    10. isspace()\tReturns True if all characters in the string are whitespaces        \n",
        "    11. istitle()\tReturns True if the string follows the rules of a title        \n",
        "    12. isupper()\tReturns True if all characters in the string are upper case"
      ],
      "metadata": {
        "id": "lRZJIQUaxzMX"
      }
    }
  ]
}