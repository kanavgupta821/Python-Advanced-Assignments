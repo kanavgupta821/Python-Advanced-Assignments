{
  "nbformat": 4,
  "nbformat_minor": 0,
  "metadata": {
    "colab": {
      "provenance": []
    },
    "kernelspec": {
      "name": "python3",
      "display_name": "Python 3"
    },
    "language_info": {
      "name": "python"
    }
  },
  "cells": [
    {
      "cell_type": "markdown",
      "source": [
        "##Q1. In Python 3.X, what are the names and functions of string object types?\n",
        "\n",
        "### ANS In Python 3.X and later, String objects has bulit in class named as \"str\" and it is used to store characters in memory in encoded format."
      ],
      "metadata": {
        "id": "B1B_vfKVLbf0"
      }
    },
    {
      "cell_type": "markdown",
      "source": [
        "##Q2. How do the string forms in Python 3.X vary in terms of operations?\n",
        "\n",
        "### ANS Python supports ASCII as a subset of Unicode. The default encoding of characters in Python is UTF-8 (Unicode Transformation Format - 8-bit).ASCII is really a 7-bit character set; it is mapped to 8-bit bytes by setting the high bit to zero. Thus, ASCII characters are unchanged in UTF-8. A non-zero high bit indicates that a character composed of multiple bytes.\n",
        "\n"
      ],
      "metadata": {
        "id": "9O59S02OLbkQ"
      }
    },
    {
      "cell_type": "code",
      "source": [
        "a = 'abc'\n",
        "print(ord(a[1]))"
      ],
      "metadata": {
        "colab": {
          "base_uri": "https://localhost:8080/"
        },
        "id": "Yv9Xc2FEMMef",
        "outputId": "d0aea78a-275f-4bfe-f7e2-984cb6521a5c"
      },
      "execution_count": 1,
      "outputs": [
        {
          "output_type": "stream",
          "name": "stdout",
          "text": [
            "98\n"
          ]
        }
      ]
    },
    {
      "cell_type": "markdown",
      "source": [
        "##Q3. In 3.X, how do you put non-ASCII Unicode characters in a string?\n",
        "\n",
        "### ANS As we know, there are only 127 ASCII characters in ascii table. It stores symbols, letters, whitespace characters, non printable characters, which are very less. So Python 3 has adopted unicode encoding of strings. for non ASCII u can get any value more than 127."
      ],
      "metadata": {
        "id": "dOlKPsjLLbmI"
      }
    },
    {
      "cell_type": "code",
      "source": [
        "a = 'abc'\n",
        "a += chr(128)+chr(145)\n",
        "print(a)"
      ],
      "metadata": {
        "colab": {
          "base_uri": "https://localhost:8080/"
        },
        "id": "uBf6PpOhMcG0",
        "outputId": "d401d0e1-99e1-438f-a54e-40d972652cb0"
      },
      "execution_count": 2,
      "outputs": [
        {
          "output_type": "stream",
          "name": "stdout",
          "text": [
            "abc\n"
          ]
        }
      ]
    },
    {
      "cell_type": "markdown",
      "source": [
        "##Q4. In Python 3.X, what are the key differences between text-mode and binary-mode files?\n",
        "\n",
        "### ANS A text file consists of human readable characters, which can be opened by any text editor. On the other hand, binary files are made up of non-human readable characters and symbols, which require specific programs to access its contents."
      ],
      "metadata": {
        "id": "g5UhbxLLLboN"
      }
    },
    {
      "cell_type": "markdown",
      "source": [
        "##Q5. How can you interpret a Unicode text file containing text encoded in a different encoding than your platform&#39;s default?\n",
        "### ANS While reading file, we can specify the encoding such as(utf16, utf32), so the file will be decoded according to that encoding and results are returned to the user.\n",
        "\n"
      ],
      "metadata": {
        "id": "dYKPmOStLbqy"
      }
    },
    {
      "cell_type": "code",
      "source": [
        "text = 'this is a sample test file'\n",
        "f = open('sample.txt','w',encoding='utf16')\n",
        "f.write(text)\n",
        "f.close()\n",
        "\n",
        "f=open('sample.txt','r',encoding='utf16')\n",
        "print(f.read())"
      ],
      "metadata": {
        "colab": {
          "base_uri": "https://localhost:8080/"
        },
        "id": "2vXEBqs5NH-d",
        "outputId": "9e49dab6-f8d9-4723-f62d-ac18d89f144e"
      },
      "execution_count": 4,
      "outputs": [
        {
          "output_type": "stream",
          "name": "stdout",
          "text": [
            "this is a sample test file\n"
          ]
        }
      ]
    },
    {
      "cell_type": "markdown",
      "source": [
        "##Q6. What is the best way to make a Unicode text file in a particular encoding format?\n",
        "\n",
        "### ANS encode method does, and the result of encoding a unicode string is a bytestring (a str type.) You should either use normal open() and encode the unicode yourself, or (usually a better idea) use codecs. open() and not encode the data yourself. "
      ],
      "metadata": {
        "id": "7XwAUyMDLh2H"
      }
    },
    {
      "cell_type": "markdown",
      "source": [
        "##Q7. What qualifies ASCII text as a form of Unicode text?\n",
        "\n",
        "### ANS The first 128 Unicode code points represent the equivalent ASCII characters. They have the same meaning in both ASCII and unicode. Since UTF-8 encodes each of these characters with a single byte, any ASCII text is also a UTF-8 text. Unicode is a superset of ASCII."
      ],
      "metadata": {
        "id": "peocA7tjLbuR"
      }
    },
    {
      "cell_type": "markdown",
      "source": [
        "##Q8. How much of an effect does the change in string types in Python 3.X have on your code?\n",
        "### ANS In Python 3.X and later, there is only one string type that is unicode. So no effect on the code."
      ],
      "metadata": {
        "id": "j5o5-_IULqAL"
      }
    }
  ]
}