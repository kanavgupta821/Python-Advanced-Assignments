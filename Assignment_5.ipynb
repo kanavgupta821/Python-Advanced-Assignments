{
  "nbformat": 4,
  "nbformat_minor": 0,
  "metadata": {
    "colab": {
      "provenance": []
    },
    "kernelspec": {
      "name": "python3",
      "display_name": "Python 3"
    },
    "language_info": {
      "name": "python"
    }
  },
  "cells": [
    {
      "cell_type": "markdown",
      "source": [
        "##Q1. What is the meaning of multiple inheritance?\n",
        "\n",
        "### ANS When a class is derived from more than one base class it is called multiple Inheritance. The derived class inherits all the features of the base case."
      ],
      "metadata": {
        "id": "5igidDK8NyWb"
      }
    },
    {
      "cell_type": "markdown",
      "source": [
        "##Q2. What is the concept of delegation?\n",
        "\n",
        "### ANS Delegation is an object oriented technique (also called a design pattern). Let's say you have an object x and want to change the behaviour of just one of its methods. You can create a new class that provides a new implementation of the method you're interested in changing and delegates all other methods to the corresponding method of x.\n",
        "\n",
        "###The delegation is accomplished via the getattr method; consult the language reference for more information about controlling attribute access."
      ],
      "metadata": {
        "id": "JOqw2ndwNyZN"
      }
    },
    {
      "cell_type": "markdown",
      "source": [
        "##Q3. What is the concept of composition?\n",
        "\n",
        "### ANS It is one of the fundamental concepts of Object-Oriented Programming. In this concept, we will describe a class that references to one or more objects of other classes as an Instance variable. Here, by using the class name or by creating the object we can access the members of one class inside another class. It enables creating complex types by combining objects of different classes. It means that a class Composite can contain an object of another class Component. This type of relationship is known as Has-A Relation."
      ],
      "metadata": {
        "id": "O9txwZD3Nybe"
      }
    },
    {
      "cell_type": "code",
      "source": [
        "class Component:\n",
        "  def __init__(self):\n",
        "    print('Component class object created')\n",
        "\n",
        "  def test1(self):\n",
        "    print('Component class test1() method executed')\n",
        "\n",
        "class Composite:\n",
        "  def __init__(self):\n",
        "    self.obj1 = Component()\n",
        "    print('Composite class object also created')\n",
        "\n",
        "  def test2(self):\n",
        "    print('Composite class test2() method executed')\n",
        "    self.obj1.test1()\n",
        "\n",
        "obj2 = Composite()\n",
        "obj2.test2()"
      ],
      "metadata": {
        "colab": {
          "base_uri": "https://localhost:8080/"
        },
        "id": "ejlED3KxQBWn",
        "outputId": "3637e85b-346b-4ca1-f200-fca9029fed17"
      },
      "execution_count": 2,
      "outputs": [
        {
          "output_type": "stream",
          "name": "stdout",
          "text": [
            "Component class object created\n",
            "Composite class object also created\n",
            "Composite class test2() method executed\n",
            "Component class test1() method executed\n"
          ]
        }
      ]
    },
    {
      "cell_type": "markdown",
      "source": [
        "##Q4. What are bound methods and how do we use them?\n",
        "### ANS A bound method is the one which is dependent on the instance of the class as the first argument. It passes the instance as the first argument which is used to access the variables and functions. All functions in the class are by default bound methods.\n"
      ],
      "metadata": {
        "id": "gEsMb9SNNyeN"
      }
    },
    {
      "cell_type": "code",
      "source": [
        "class Sample:\n",
        "  def func(self, a):\n",
        "    self.a = a\n",
        "\n",
        "s = Sample()\n",
        "print(s.func)"
      ],
      "metadata": {
        "colab": {
          "base_uri": "https://localhost:8080/"
        },
        "id": "KUBXtegyRfaA",
        "outputId": "f3d5ee92-d7e1-4eb4-e52f-b1bd2ca5e3b3"
      },
      "execution_count": 3,
      "outputs": [
        {
          "output_type": "stream",
          "name": "stdout",
          "text": [
            "<bound method Sample.func of <__main__.Sample object at 0x7f838ae36850>>\n"
          ]
        }
      ]
    },
    {
      "cell_type": "markdown",
      "source": [
        "##Q5. What is the purpose of pseudoprivate attributes?\n",
        "### ANS In Python, there is no concept of \"private\" as such. When naming properties and methods at the level, some special processing is actually done to the name, making it inaccessible to the outside world."
      ],
      "metadata": {
        "id": "WAPJvmm-Nygx"
      }
    },
    {
      "cell_type": "code",
      "source": [
        "class Test:\n",
        "  def __init__(self,a,b,c,d):\n",
        "    self.__a = a      # __ means pseudo private variable\n",
        "    self.b = b\n",
        "    self.c = c\n",
        "    self.d = d\n",
        "\n",
        "  def custom(self,v):\n",
        "    return v - self.__a\n",
        "\n",
        "t = Test(1,2,3,4)\n",
        "print(t._Test__a)   # this is the way to access pseudo private attribute\n",
        "print(t.b)\n",
        "print(t.custom(5))"
      ],
      "metadata": {
        "colab": {
          "base_uri": "https://localhost:8080/"
        },
        "id": "rhLCr2zdN87-",
        "outputId": "809a5bfb-4141-4a8c-fc08-e9e50c5eaef0"
      },
      "execution_count": 4,
      "outputs": [
        {
          "output_type": "stream",
          "name": "stdout",
          "text": [
            "1\n",
            "2\n",
            "4\n"
          ]
        }
      ]
    }
  ]
}