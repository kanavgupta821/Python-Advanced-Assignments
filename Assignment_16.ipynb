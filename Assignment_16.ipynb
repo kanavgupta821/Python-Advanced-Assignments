{
  "nbformat": 4,
  "nbformat_minor": 0,
  "metadata": {
    "colab": {
      "provenance": []
    },
    "kernelspec": {
      "name": "python3",
      "display_name": "Python 3"
    },
    "language_info": {
      "name": "python"
    }
  },
  "cells": [
    {
      "cell_type": "markdown",
      "source": [
        "##Q1. What is the benefit of regular expressions?\n",
        "\n",
        "### ANS Regular expressions are useful in any scenario that benefits from full or partial pattern match on strings. These are some of the common use cases: verify the structure of strings. extract substrings form structured strings."
      ],
      "metadata": {
        "id": "4KLM1_7mSby0"
      }
    },
    {
      "cell_type": "markdown",
      "source": [
        "##Q2. Describe the difference between the effects of &quot;(ab)c+&quot; and &quot;a(bc)+.&quot; Which of these, if any, is the unqualified pattern &quot;abc+&quot;?\n",
        "\n",
        "### ANS Pattern (ab)c+ will search for at only one occurence of \"ab\" and one or more occurances of c.\n",
        "\n",
        "###Pattern a(bc)+ will search for at only one occurence of \"a\" and one or more occurances of bc.\n",
        "\n",
        "###pattern (ab)c+ can be unqualified pattern \"abc+\""
      ],
      "metadata": {
        "id": "cXut7lHTSb2O"
      }
    },
    {
      "cell_type": "code",
      "source": [
        "import re\n",
        "a = re.search(r'(ab)c+', \"abcccccc\")\n",
        "b = re.search(r'a(bc)+', 'abcbc')\n",
        "\n",
        "print(a.group())\n",
        "print(b.group())"
      ],
      "metadata": {
        "colab": {
          "base_uri": "https://localhost:8080/"
        },
        "id": "dtYOvi7nTPWd",
        "outputId": "edfe1b1f-b537-4060-d8a2-bd8202a7964c"
      },
      "execution_count": 2,
      "outputs": [
        {
          "output_type": "stream",
          "name": "stdout",
          "text": [
            "abcccccc\n",
            "abcbc\n"
          ]
        }
      ]
    },
    {
      "cell_type": "markdown",
      "source": [
        "##Q3. How much do you need to use the following sentence while using regular expressions?\n",
        "##import re\n",
        "\n",
        "### ANS We have to use it everytime we use functions of the module re."
      ],
      "metadata": {
        "id": "zHBpqPSwSb4n"
      }
    },
    {
      "cell_type": "markdown",
      "source": [
        "##Q4. Which characters have special significance in square brackets when expressing a range, and under what circumstances?\n",
        "### ANS \\ (backslash) : general escape character, is used when you use character class metacharacters as literals inside a character class only.\n",
        "\n",
        "### ^ (circumflex anchor) : negate the class, if this is the first character in the brackets(If ^ is not the first, it is not a metacharacter.)\n"
      ],
      "metadata": {
        "id": "FV3Y4aObSb8B"
      }
    },
    {
      "cell_type": "markdown",
      "source": [
        "##Q5. How does compiling a regular-expression object benefit you?\n",
        "\n",
        "### ANS It is faster compared to using pattern ad other re functions."
      ],
      "metadata": {
        "id": "OQvEH0EPShCS"
      }
    },
    {
      "cell_type": "markdown",
      "source": [
        "##Q6. What are some examples of how to use the match object returned by re.match and re.search?\n",
        "\n",
        "### ANS re.search() searches for the whole string even if the string contains multi-lines and tries to find a match of the substring in all the lines of string\n",
        "\n",
        "###re.match() searches only from the beginning of the string and return match object if found. But if a match of substring is found somewhere in the middle of the string, it returns none.\n",
        "\n",
        "###But, both search() and match() returns only the first occurance of pattern."
      ],
      "metadata": {
        "id": "72TvecKZShG7"
      }
    },
    {
      "cell_type": "code",
      "source": [
        "import re\n",
        " \n",
        "Substring ='string'\n",
        " \n",
        " \n",
        "String1 ='''regex is very useful for string matching.\n",
        "          It is fast too.'''\n",
        "String2 ='''string regex is very useful for string matching.\n",
        "          It is fast too.'''\n",
        " \n",
        "# Use of re.search() Method\n",
        "print(re.search(Substring, String1, re.IGNORECASE))\n",
        "# Use of re.match() Method\n",
        "print(re.match(Substring, String1, re.IGNORECASE))\n",
        " \n",
        "# Use of re.search() Method\n",
        "print(re.search(Substring, String2, re.IGNORECASE))\n",
        "# Use of re.match() Method\n",
        "print(re.match(Substring, String2, re.IGNORECASE))"
      ],
      "metadata": {
        "colab": {
          "base_uri": "https://localhost:8080/"
        },
        "id": "ApQSU3mqUXK9",
        "outputId": "e4fb8262-3089-4a0b-abc0-e099716b5064"
      },
      "execution_count": 3,
      "outputs": [
        {
          "output_type": "stream",
          "name": "stdout",
          "text": [
            "<re.Match object; span=(25, 31), match='string'>\n",
            "None\n",
            "<re.Match object; span=(0, 6), match='string'>\n",
            "<re.Match object; span=(0, 6), match='string'>\n"
          ]
        }
      ]
    },
    {
      "cell_type": "markdown",
      "source": [
        "##Q7. What is the difference between using a vertical bar (|) as an alteration and using square brackets as a character set?\n",
        "\n",
        "### ANS | : is regex or. It will check either of any string is present in search string.\n",
        "\n",
        "### [] : This will search for any character is present in string"
      ],
      "metadata": {
        "id": "A0ycCdLrShKy"
      }
    },
    {
      "cell_type": "code",
      "source": [
        "import re\n",
        "print(re.findall(\"She|he\", \"She is a great human!\"))\n",
        "print(re.findall(r'[^\\d]+',\"she is great human!\"))"
      ],
      "metadata": {
        "colab": {
          "base_uri": "https://localhost:8080/"
        },
        "id": "82a89rHuVIb4",
        "outputId": "5af20c0f-b5cd-4bbe-89e8-361092d2e3b4"
      },
      "execution_count": 4,
      "outputs": [
        {
          "output_type": "stream",
          "name": "stdout",
          "text": [
            "['She']\n",
            "['she is great human!']\n"
          ]
        }
      ]
    },
    {
      "cell_type": "markdown",
      "source": [
        "##Q8. In regular-expression search patterns, why is it necessary to use the raw-string indicator (r)? In  replacement strings?\n",
        "### ANS r indicates raw string means that the characters ahead are individual characters not escape characters. It changes how the string literal is interpreted. Such literals are stored as they appear."
      ],
      "metadata": {
        "id": "jXHbMamiShM2"
      }
    }
  ]
}