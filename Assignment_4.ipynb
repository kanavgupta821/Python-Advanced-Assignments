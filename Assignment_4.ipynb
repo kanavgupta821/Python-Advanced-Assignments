{
  "nbformat": 4,
  "nbformat_minor": 0,
  "metadata": {
    "colab": {
      "provenance": []
    },
    "kernelspec": {
      "name": "python3",
      "display_name": "Python 3"
    },
    "language_info": {
      "name": "python"
    }
  },
  "cells": [
    {
      "cell_type": "markdown",
      "source": [
        "##Q1. Which two operator overloading methods can you use in your classes to support iteration?\n",
        "\n",
        "### ANS add() and mul() methods can be used for both integers and string data objects. String is iterable object. When two strings are passed to + operator, it will return concatenated string. When * (number) is preceeded by string, then that string is repeated those many number of time."
      ],
      "metadata": {
        "id": "KNAN2hY0hQ5N"
      }
    },
    {
      "cell_type": "code",
      "source": [
        "print('abcd' + 'efgh')\n",
        "print('abc' * 5)"
      ],
      "metadata": {
        "colab": {
          "base_uri": "https://localhost:8080/"
        },
        "id": "dSv2l1EqnQ2p",
        "outputId": "dfceaa54-1fe4-4c04-b52a-7f42cbd97a51"
      },
      "execution_count": 1,
      "outputs": [
        {
          "output_type": "stream",
          "name": "stdout",
          "text": [
            "abcdefgh\n",
            "abcabcabcabcabc\n"
          ]
        }
      ]
    },
    {
      "cell_type": "markdown",
      "source": [
        "##Q2. In what contexts do the two operator overloading methods manage printing?\n",
        "\n",
        "### ANS It depends on the input parameter result is printed. Example, If both inputs are string function will print string output."
      ],
      "metadata": {
        "id": "vwhyQ2Pql4t_"
      }
    },
    {
      "cell_type": "markdown",
      "source": [
        "##Q3. In a class, how do you intercept slice operations?\n",
        "\n"
      ],
      "metadata": {
        "id": "6kZl312ql4wz"
      }
    },
    {
      "cell_type": "code",
      "source": [
        "## ANS\n",
        "import profile\n",
        "import sys\n",
        "\n",
        "\n",
        "\n",
        "class InterceptedList2(list):\n",
        "\n",
        "    def __setitem__(self, key, value):\n",
        "        print ('saving')\n",
        "        list.__setitem__(self, key, value)\n",
        "\n",
        "    def __delitem__(self, key):\n",
        "        print ('saving')\n",
        "        list.__delitem__(self, key)\n",
        "\n",
        "\n",
        "\n",
        "l2 = InterceptedList2()\n",
        "l2.extend([1,2,3,4])\n",
        "profile.run(\"l2[3:] = [5]\")\n",
        "profile.run(\"l2[2:6] = [12,4]\")\n",
        "profile.run(\"l2[-1:] = [42]\")\n",
        "profile.run(\"l2[::2] = [6,6]\")"
      ],
      "metadata": {
        "colab": {
          "base_uri": "https://localhost:8080/"
        },
        "id": "yRt3Sqr0oX_k",
        "outputId": "4af9674b-d51e-405a-ac4f-0826cd09b96f"
      },
      "execution_count": 2,
      "outputs": [
        {
          "output_type": "stream",
          "name": "stdout",
          "text": [
            "saving\n",
            "         40 function calls in 0.001 seconds\n",
            "\n",
            "   Ordered by: standard name\n",
            "\n",
            "   ncalls  tottime  percall  cumtime  percall filename:lineno(function)\n",
            "        3    0.000    0.000    0.000    0.000 :0(acquire)\n",
            "        3    0.000    0.000    0.000    0.000 :0(append)\n",
            "        1    0.000    0.000    0.001    0.001 :0(exec)\n",
            "        2    0.000    0.000    0.000    0.000 :0(getpid)\n",
            "        2    0.000    0.000    0.000    0.000 :0(isinstance)\n",
            "        1    0.000    0.000    0.001    0.001 :0(print)\n",
            "        1    0.000    0.000    0.000    0.000 :0(setprofile)\n",
            "        1    0.000    0.000    0.001    0.001 <ipython-input-2-b1b462a42a89>:9(__setitem__)\n",
            "        1    0.000    0.000    0.001    0.001 <string>:1(<module>)\n",
            "        3    0.000    0.000    0.001    0.000 iostream.py:197(schedule)\n",
            "        2    0.000    0.000    0.000    0.000 iostream.py:310(_is_master_process)\n",
            "        2    0.000    0.000    0.000    0.000 iostream.py:323(_schedule_flush)\n",
            "        2    0.000    0.000    0.001    0.001 iostream.py:386(write)\n",
            "        3    0.000    0.000    0.000    0.000 iostream.py:93(_event_pipe)\n",
            "        1    0.000    0.000    0.001    0.001 profile:0(l2[3:] = [5])\n",
            "        0    0.000             0.000          profile:0(profiler)\n",
            "        3    0.001    0.000    0.001    0.000 socket.py:543(send)\n",
            "        3    0.000    0.000    0.000    0.000 threading.py:1066(_wait_for_tstate_lock)\n",
            "        3    0.000    0.000    0.000    0.000 threading.py:1133(is_alive)\n",
            "        3    0.000    0.000    0.000    0.000 threading.py:536(is_set)\n",
            "\n",
            "\n",
            "saving\n",
            "         32 function calls in 0.000 seconds\n",
            "\n",
            "   Ordered by: standard name\n",
            "\n",
            "   ncalls  tottime  percall  cumtime  percall filename:lineno(function)\n",
            "        2    0.000    0.000    0.000    0.000 :0(acquire)\n",
            "        2    0.000    0.000    0.000    0.000 :0(append)\n",
            "        1    0.000    0.000    0.000    0.000 :0(exec)\n",
            "        2    0.000    0.000    0.000    0.000 :0(getpid)\n",
            "        2    0.000    0.000    0.000    0.000 :0(isinstance)\n",
            "        1    0.000    0.000    0.000    0.000 :0(print)\n",
            "        1    0.000    0.000    0.000    0.000 :0(setprofile)\n",
            "        1    0.000    0.000    0.000    0.000 <ipython-input-2-b1b462a42a89>:9(__setitem__)\n",
            "        1    0.000    0.000    0.000    0.000 <string>:1(<module>)\n",
            "        2    0.000    0.000    0.000    0.000 iostream.py:197(schedule)\n",
            "        2    0.000    0.000    0.000    0.000 iostream.py:310(_is_master_process)\n",
            "        2    0.000    0.000    0.000    0.000 iostream.py:323(_schedule_flush)\n",
            "        2    0.000    0.000    0.000    0.000 iostream.py:386(write)\n",
            "        2    0.000    0.000    0.000    0.000 iostream.py:93(_event_pipe)\n",
            "        1    0.000    0.000    0.000    0.000 profile:0(l2[2:6] = [12,4])\n",
            "        0    0.000             0.000          profile:0(profiler)\n",
            "        2    0.000    0.000    0.000    0.000 socket.py:543(send)\n",
            "        2    0.000    0.000    0.000    0.000 threading.py:1066(_wait_for_tstate_lock)\n",
            "        2    0.000    0.000    0.000    0.000 threading.py:1133(is_alive)\n",
            "        2    0.000    0.000    0.000    0.000 threading.py:536(is_set)\n",
            "\n",
            "\n",
            "saving\n",
            "         32 function calls in 0.000 seconds\n",
            "\n",
            "   Ordered by: standard name\n",
            "\n",
            "   ncalls  tottime  percall  cumtime  percall filename:lineno(function)\n",
            "        2    0.000    0.000    0.000    0.000 :0(acquire)\n",
            "        2    0.000    0.000    0.000    0.000 :0(append)\n",
            "        1    0.000    0.000    0.000    0.000 :0(exec)\n",
            "        2    0.000    0.000    0.000    0.000 :0(getpid)\n",
            "        2    0.000    0.000    0.000    0.000 :0(isinstance)\n",
            "        1    0.000    0.000    0.000    0.000 :0(print)\n",
            "        1    0.000    0.000    0.000    0.000 :0(setprofile)\n",
            "        1    0.000    0.000    0.000    0.000 <ipython-input-2-b1b462a42a89>:9(__setitem__)\n",
            "        1    0.000    0.000    0.000    0.000 <string>:1(<module>)\n",
            "        2    0.000    0.000    0.000    0.000 iostream.py:197(schedule)\n",
            "        2    0.000    0.000    0.000    0.000 iostream.py:310(_is_master_process)\n",
            "        2    0.000    0.000    0.000    0.000 iostream.py:323(_schedule_flush)\n",
            "        2    0.000    0.000    0.000    0.000 iostream.py:386(write)\n",
            "        2    0.000    0.000    0.000    0.000 iostream.py:93(_event_pipe)\n",
            "        1    0.000    0.000    0.000    0.000 profile:0(l2[-1:] = [42])\n",
            "        0    0.000             0.000          profile:0(profiler)\n",
            "        2    0.000    0.000    0.000    0.000 socket.py:543(send)\n",
            "        2    0.000    0.000    0.000    0.000 threading.py:1066(_wait_for_tstate_lock)\n",
            "        2    0.000    0.000    0.000    0.000 threading.py:1133(is_alive)\n",
            "        2    0.000    0.000    0.000    0.000 threading.py:536(is_set)\n",
            "\n",
            "\n",
            "saving\n",
            "         32 function calls in 0.000 seconds\n",
            "\n",
            "   Ordered by: standard name\n",
            "\n",
            "   ncalls  tottime  percall  cumtime  percall filename:lineno(function)\n",
            "        2    0.000    0.000    0.000    0.000 :0(acquire)\n",
            "        2    0.000    0.000    0.000    0.000 :0(append)\n",
            "        1    0.000    0.000    0.000    0.000 :0(exec)\n",
            "        2    0.000    0.000    0.000    0.000 :0(getpid)\n",
            "        2    0.000    0.000    0.000    0.000 :0(isinstance)\n",
            "        1    0.000    0.000    0.000    0.000 :0(print)\n",
            "        1    0.000    0.000    0.000    0.000 :0(setprofile)\n",
            "        1    0.000    0.000    0.000    0.000 <ipython-input-2-b1b462a42a89>:9(__setitem__)\n",
            "        1    0.000    0.000    0.000    0.000 <string>:1(<module>)\n",
            "        2    0.000    0.000    0.000    0.000 iostream.py:197(schedule)\n",
            "        2    0.000    0.000    0.000    0.000 iostream.py:310(_is_master_process)\n",
            "        2    0.000    0.000    0.000    0.000 iostream.py:323(_schedule_flush)\n",
            "        2    0.000    0.000    0.000    0.000 iostream.py:386(write)\n",
            "        2    0.000    0.000    0.000    0.000 iostream.py:93(_event_pipe)\n",
            "        1    0.000    0.000    0.000    0.000 profile:0(l2[::2] = [6,6])\n",
            "        0    0.000             0.000          profile:0(profiler)\n",
            "        2    0.000    0.000    0.000    0.000 socket.py:543(send)\n",
            "        2    0.000    0.000    0.000    0.000 threading.py:1066(_wait_for_tstate_lock)\n",
            "        2    0.000    0.000    0.000    0.000 threading.py:1133(is_alive)\n",
            "        2    0.000    0.000    0.000    0.000 threading.py:536(is_set)\n",
            "\n",
            "\n"
          ]
        }
      ]
    },
    {
      "cell_type": "markdown",
      "source": [
        "##Q4. In a class, how do you capture in-place addition?\n",
        "\n",
        "### ANS Python provides the operator x += y to add two objects in-place by calculating the sum x + y and assigning the result to the first operands variable name x. You can set up the in-place addition behavior for your own class by overriding the magic “dunder” method __iadd__(self, other) in your class definition."
      ],
      "metadata": {
        "id": "cFoe0v9jl40X"
      }
    },
    {
      "cell_type": "code",
      "source": [
        "import operator\n",
        "\n",
        "x = 2\n",
        "y = 3\n",
        "\n",
        "x = operator.iadd(x,y)\n",
        "\n",
        "print(x)"
      ],
      "metadata": {
        "colab": {
          "base_uri": "https://localhost:8080/"
        },
        "id": "LA01xZaMo4ru",
        "outputId": "059559aa-47ac-4584-ee8c-a4517f700096"
      },
      "execution_count": 3,
      "outputs": [
        {
          "output_type": "stream",
          "name": "stdout",
          "text": [
            "5\n"
          ]
        }
      ]
    },
    {
      "cell_type": "markdown",
      "source": [
        "##Q5. When is it appropriate to use operator overloading?\n",
        "### ANS When we have two objects which are a physical representation of a class (user-defined data type) and we have to add two objects with binary ‘+’ operator it throws an error, because compiler don’t know how to add two objects. So we define a method for an operator and that process is called operator overloading."
      ],
      "metadata": {
        "id": "UFSBrDmNl5Z1"
      }
    }
  ]
}