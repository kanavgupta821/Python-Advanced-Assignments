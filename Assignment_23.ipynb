{
  "nbformat": 4,
  "nbformat_minor": 0,
  "metadata": {
    "colab": {
      "provenance": []
    },
    "kernelspec": {
      "name": "python3",
      "display_name": "Python 3"
    },
    "language_info": {
      "name": "python"
    }
  },
  "cells": [
    {
      "cell_type": "markdown",
      "source": [
        "##Q1. If you have any, what are your choices for increasing the comparison between different figures on the same graph?\n",
        "\n",
        "### ANS Bar charts are good for comparisons, while line charts work better for trends. Scatter plot charts are good for relationships and distributions, but pie charts should be used only for simple compositions — never for comparisons or distributions.\n"
      ],
      "metadata": {
        "id": "LHcbR0tqfYxx"
      }
    },
    {
      "cell_type": "markdown",
      "source": [
        "##Q2. Can you explain the benefit of compound interest over a higher rate of interest that does not compound after reading this chapter?\n",
        "\n",
        "### ANS Compound interest makes your money grow faster because interest is calculated on the accumulated interest over time as well as on your original principal. Compounding can create a snowball effect, as the original investments plus the income earned from those investments grow together."
      ],
      "metadata": {
        "id": "ufLrF7slfY0X"
      }
    },
    {
      "cell_type": "markdown",
      "source": [
        "##Q3. What is a histogram, exactly? Name a numpy method for creating such a graph.\n",
        "\n",
        "### ANS A histogram is a graphical representation of the distribution of a dataset. It displays the frequencies or counts of observations falling into different intervals, known as bins. The x-axis represents the range of values in the dataset, divided into equally spaced bins, while the y-axis represents the frequency or count of observations within each bin.\n",
        "\n",
        "###A commonly used method in the NumPy library for creating a histogram is numpy.histogram(). This function takes a dataset as input and returns an array of histogram values and an array of bin edges."
      ],
      "metadata": {
        "id": "YVp_ubsxfY2e"
      }
    },
    {
      "cell_type": "code",
      "source": [
        "# Example\n",
        "import numpy as np\n",
        "import matplotlib.pyplot as plt\n",
        "\n",
        "# Generate a random dataset\n",
        "data = np.random.randn(1000)\n",
        "\n",
        "# Create a histogram\n",
        "hist_values, bin_edges = np.histogram(data, bins=10)\n",
        "\n",
        "# Plot the histogram\n",
        "plt.hist(data, bins=10)\n",
        "plt.xlabel('Value')\n",
        "plt.ylabel('Frequency')\n",
        "plt.title('Histogram')\n",
        "plt.show()"
      ],
      "metadata": {
        "colab": {
          "base_uri": "https://localhost:8080/",
          "height": 472
        },
        "id": "V5-GaKa0yl15",
        "outputId": "dfd78355-f3a8-4b59-cc56-04c6012d3a7c"
      },
      "execution_count": 1,
      "outputs": [
        {
          "output_type": "display_data",
          "data": {
            "text/plain": [
              "<Figure size 640x480 with 1 Axes>"
            ],
            "image/png": "[encoded data removed]"
          },
          "metadata": {}
        }
      ]
    },
    {
      "cell_type": "markdown",
      "source": [
        "##Q4. If necessary, how do you change the aspect ratios between the X and Y axes?\n",
        "\n",
        "### ANS To change the aspect ratio between the x-axis and y-axis in a plot, you can adjust the aspect ratio of the figure or specify the aspect ratio when creating the plot.\n",
        "\n",
        "\n",
        "```\n",
        "# Example\n",
        "import matplotlib.pyplot as plt\n",
        "\n",
        "# Create a plot with a specific aspect ratio\n",
        "plt.figure(figsize=(6, 3))  # Width: 6 units, Height: 3 units\n",
        "plt.plot(x_values, y_values)\n",
        "\n",
        "# Show the plot\n",
        "plt.show()\n",
        "```\n",
        "\n",
        "###In this example, plt.figure(figsize=(6, 3)) creates a figure with a width of 6 units and a height of 3 units. Adjusting these values will change the aspect ratio of the plot.\n",
        "\n"
      ],
      "metadata": {
        "id": "FhZYgxq0fY7C"
      }
    },
    {
      "cell_type": "markdown",
      "source": [
        "##Q5. Compare and contrast the three types of array multiplication between two numpy arrays: dot product, outer product, and regular multiplication of two numpy arrays.\n",
        "\n",
        "### ANS **Regular Multiplication:**\n",
        "\n",
        "####Operation: Regular multiplication of two arrays element-wise.\n",
        "####Syntax: result = array1 * array2\n",
        "####Result: The resulting array has the same shape as the input arrays, where each element is the product of the corresponding elements from the input arrays."
      ],
      "metadata": {
        "id": "MfMU1P9yfZYc"
      }
    },
    {
      "cell_type": "code",
      "source": [
        "# Example\n",
        "import numpy as np\n",
        "\n",
        "array1 = np.array([1, 2, 3])\n",
        "array2 = np.array([4, 5, 6])\n",
        "result = array1 * array2\n",
        "\n",
        "print(result)  # Output: [ 4 10 18]"
      ],
      "metadata": {
        "colab": {
          "base_uri": "https://localhost:8080/"
        },
        "id": "1Jn5k-T20Jmr",
        "outputId": "027e0242-029a-4373-8007-779562c2fcbb"
      },
      "execution_count": 2,
      "outputs": [
        {
          "output_type": "stream",
          "name": "stdout",
          "text": [
            "[ 4 10 18]\n"
          ]
        }
      ]
    },
    {
      "cell_type": "markdown",
      "source": [
        "###**Dot Product:**\n",
        "\n",
        "####Operation: Computes the dot product of two arrays, which is a scalar value.\n",
        "####Syntax: result = np.dot(array1, array2)\n",
        "####Result: The result is a scalar value obtained by summing the element-wise products of the corresponding elements from the input arrays."
      ],
      "metadata": {
        "id": "taElqbfG0OJS"
      }
    },
    {
      "cell_type": "code",
      "source": [
        "# Example\n",
        "import numpy as np\n",
        "\n",
        "array1 = np.array([1, 2, 3])\n",
        "array2 = np.array([4, 5, 6])\n",
        "result = np.dot(array1, array2)\n",
        "\n",
        "print(result)  # Output: 32"
      ],
      "metadata": {
        "colab": {
          "base_uri": "https://localhost:8080/"
        },
        "id": "TO2TGbHO0W31",
        "outputId": "d0248521-9de8-468c-e8ec-12ece6bc706a"
      },
      "execution_count": 3,
      "outputs": [
        {
          "output_type": "stream",
          "name": "stdout",
          "text": [
            "32\n"
          ]
        }
      ]
    },
    {
      "cell_type": "markdown",
      "source": [
        "### **Outer Product:**\n",
        "\n",
        "####Operation: Computes the outer product of two arrays, resulting in a new array.\n",
        "####Syntax: result = np.outer(array1, array2)\n",
        "####Result: The resulting array has a shape determined by the lengths of the input arrays. It is formed by taking the product of each element of the first array with every element of the second array."
      ],
      "metadata": {
        "id": "Uc6LgqGh0ce8"
      }
    },
    {
      "cell_type": "code",
      "source": [
        "# Example\n",
        "import numpy as np\n",
        "\n",
        "array1 = np.array([1, 2, 3])\n",
        "array2 = np.array([4, 5, 6])\n",
        "result = np.outer(array1, array2)\n",
        "\n",
        "print(result)"
      ],
      "metadata": {
        "colab": {
          "base_uri": "https://localhost:8080/"
        },
        "id": "g1cNjv390oUi",
        "outputId": "9a8e6f84-87cb-4783-aa7f-31522f2a2003"
      },
      "execution_count": 4,
      "outputs": [
        {
          "output_type": "stream",
          "name": "stdout",
          "text": [
            "[[ 4  5  6]\n",
            " [ 8 10 12]\n",
            " [12 15 18]]\n"
          ]
        }
      ]
    },
    {
      "cell_type": "markdown",
      "source": [
        "##Q6. Before you buy a home, which numpy function will you use to measure your monthly mortgage payment?\n",
        "\n",
        "### ANS np.pmt(rate, nper, pv) function we will be using in order to calculate monthly mortgage payment before\n",
        "###you purchase a house\n",
        "###rate = The periodic interest rate\n",
        "###nper = The number of payment periods\n",
        "###pv = The total value of the mortgage loan"
      ],
      "metadata": {
        "id": "Zn_Z_KGTfZdQ"
      }
    },
    {
      "cell_type": "markdown",
      "source": [
        "##Q7. Can string data be stored in numpy arrays? If so, list at least one restriction that applies to this data.\n",
        "### ANS Yes, string data can be stored in NumPy arrays using the numpy.array() function with the dtype parameter set to a string data type, such as 'str' or 'object'. "
      ],
      "metadata": {
        "id": "X_iOG5VOfZki"
      }
    },
    {
      "cell_type": "code",
      "source": [
        "# Example\n",
        "import numpy as np\n",
        "\n",
        "# Create a NumPy array with string data\n",
        "arr = np.array(['apple', 'banana', 'orange'], dtype=str)\n"
      ],
      "metadata": {
        "id": "lkCGUjZA1qV8"
      },
      "execution_count": 5,
      "outputs": []
    },
    {
      "cell_type": "markdown",
      "source": [
        "###However, there is a restriction when dealing with string data in NumPy arrays: the length of the strings must be fixed and predefined. NumPy arrays require homogeneous data, meaning all elements must have the same size in memory. Therefore, when using a string data type, the length of the strings must be consistent within the array.\n",
        "\n",
        "###For instance, if you define a string array with a maximum length of 5 characters, all strings in that array must have a length of 5 or less. If you attempt to store a longer string, it will be truncated or result in an error."
      ],
      "metadata": {
        "id": "hoj686bz1tqS"
      }
    },
    {
      "cell_type": "code",
      "source": [
        "# Example\n",
        "import numpy as np\n",
        "\n",
        "# Create a NumPy array with fixed-length strings\n",
        "arr = np.array(['apple', 'banana', 'orange'], dtype='U5')\n",
        "\n",
        "# Attempt to store a string longer than the defined length\n",
        "arr[1] = 'pineapple'\n",
        "\n",
        "print(arr)"
      ],
      "metadata": {
        "colab": {
          "base_uri": "https://localhost:8080/"
        },
        "id": "msldZA8y1syI",
        "outputId": "20990857-3a76-4c26-e702-94a822cc50a5"
      },
      "execution_count": 7,
      "outputs": [
        {
          "output_type": "stream",
          "name": "stdout",
          "text": [
            "['apple' 'pinea' 'orang']\n"
          ]
        }
      ]
    }
  ]
}