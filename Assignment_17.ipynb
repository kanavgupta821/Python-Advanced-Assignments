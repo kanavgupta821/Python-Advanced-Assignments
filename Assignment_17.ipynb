{
  "nbformat": 4,
  "nbformat_minor": 0,
  "metadata": {
    "colab": {
      "provenance": []
    },
    "kernelspec": {
      "name": "python3",
      "display_name": "Python 3"
    },
    "language_info": {
      "name": "python"
    }
  },
  "cells": [
    {
      "cell_type": "markdown",
      "source": [
        "##Q1. Explain the difference between greedy and non-greedy syntax with visual terms in as few words as possible. What is the bare minimum effort required to transform a greedy pattern into a non-greedy one? What characters or characters can you introduce or change?\n",
        "\n"
      ],
      "metadata": {
        "id": "bQGmHMQ6V9cN"
      }
    },
    {
      "cell_type": "code",
      "source": [
        "## ANS : Greedy version, Python matches the longest possible string\n",
        "import re\n",
        "text = \"<Robot is the latest addition to the tech items> <Robot is very advanced> <Robot is a machine>\"\n",
        "greedyregobj=re.compile(r'<.*>')\n",
        "match=greedyregobj.search(text)\n",
        "print(match.group())\n",
        "\n",
        "#the Non-greedy version of the regex, Python matches the shortest possible string\n",
        "\n",
        "nongreedyregobj=re.compile(r'<Ro.*?>')\n",
        "match1=nongreedyregobj.search(text)\n",
        "match1.group()"
      ],
      "metadata": {
        "colab": {
          "base_uri": "https://localhost:8080/",
          "height": 53
        },
        "id": "vcRVFnKSWr2E",
        "outputId": "7c609e28-01b2-40da-c921-939ad1a0913e"
      },
      "execution_count": 1,
      "outputs": [
        {
          "output_type": "stream",
          "name": "stdout",
          "text": [
            "<Robot is the latest addition to the tech items> <Robot is very advanced> <Robot is a machine>\n"
          ]
        },
        {
          "output_type": "execute_result",
          "data": {
            "text/plain": [
              "'<Robot is the latest addition to the tech items>'"
            ],
            "application/vnd.google.colaboratory.intrinsic+json": {
              "type": "string"
            }
          },
          "metadata": {},
          "execution_count": 1
        }
      ]
    },
    {
      "cell_type": "markdown",
      "source": [
        "##Q2. When exactly does greedy versus non-greedy make a difference?  What if you&#39;re looking for a non-greedy match but the only one available is greedy?\n",
        "\n",
        "### ANS The greedy match will try to match as many repetitions of the quantified pattern as possible. The non-greedy match will try to match as few repetitions of the quantified pattern as possible. If only non greedy match is available, we can use other filtering or pattern matching methods of regex and further identify the required pattern.\n",
        "\n",
        "\n"
      ],
      "metadata": {
        "id": "Rb9TzfhDV9ez"
      }
    },
    {
      "cell_type": "markdown",
      "source": [
        "##Q3. In a simple match of a string, which looks only for one match and does not do any replacement, is the use of a nontagged group likely to make any practical difference?\n",
        "\n"
      ],
      "metadata": {
        "id": "u1lb_OUCV9g9"
      }
    },
    {
      "cell_type": "code",
      "source": [
        "## ANS \n",
        "import re\n",
        "phoneNumRegex = re.compile(r'\\d\\d\\d')\n",
        "m = phoneNumRegex.search('My number is 875-222-4242.')\n",
        "print('Phone number found: ' + m.group()) # non tagged group\n",
        "print('Phone number found: ' + m.group(0))"
      ],
      "metadata": {
        "colab": {
          "base_uri": "https://localhost:8080/"
        },
        "id": "lDyJj3GsXcTB",
        "outputId": "77984eb2-6200-4a1d-f8b8-91a9090b1cfd"
      },
      "execution_count": 3,
      "outputs": [
        {
          "output_type": "stream",
          "name": "stdout",
          "text": [
            "Phone number found: 875\n",
            "Phone number found: 875\n"
          ]
        }
      ]
    },
    {
      "cell_type": "markdown",
      "source": [
        "##Q4. Describe a scenario in which using a nontagged category would have a significant impact on the program&#39;s outcomes.\n",
        "\n"
      ],
      "metadata": {
        "id": "LtceGy0wV9jo"
      }
    },
    {
      "cell_type": "code",
      "source": [
        "## ANS \n",
        "import re\n",
        "text='238.238'\n",
        "pattern=r'(\\d+)(?:.)(\\d+)'\n",
        "regobj=re.compile(pattern)\n",
        "matobj=regobj.search(text)\n",
        "matobj.groups()\n",
        "#  Here the '.' decimal is not tagged or captured.\n",
        "#  It will useful in scenarios where the separator of value in a string is of no use and we need to capture only the\n",
        "#  values."
      ],
      "metadata": {
        "id": "lmR4C5ACX580"
      },
      "execution_count": null,
      "outputs": []
    },
    {
      "cell_type": "markdown",
      "source": [
        "##Q5. Unlike a normal regex pattern, a look-ahead condition does not consume the characters it examines. Describe a situation in which this could make a difference in the results of your programme.\n",
        "### ANS While counting the number of multiple lines or multiple sentence in a string the positive look ahead makes a difference, without which we wont get the correct count of lines or sentences in a string.\n",
        "\n"
      ],
      "metadata": {
        "id": "hB8-SHFTV9mT"
      }
    },
    {
      "cell_type": "markdown",
      "source": [
        "##Q6. In standard expressions, what is the difference between positive look-ahead and negative look- ahead?\n",
        "\n",
        "### ANS **Positive lookahead**\n",
        "###In this type the regex engine searches for a particular element which may be a character or characters or a group after the item matched. If that particular element is present then the regex declares the match as a match otherwise it simply rejects that match. \n",
        "\n",
        "### Negative lookahead\n",
        "###In this type of lookahead the regex engine searches for a particular element which may be a character or characters or a group after the item matched. If that particular element is not present then the regex declares the match as a match otherwise it simply rejects that match. "
      ],
      "metadata": {
        "id": "fwqsa9KfV9pS"
      }
    },
    {
      "cell_type": "code",
      "source": [
        "# positive lookahead\n",
        "import re\n",
        "pat=r'abc(?=[A-Z])'\n",
        "text=\"abcABCEF\"\n",
        "regobj=re.compile(pat)\n",
        "matobj=regobj.findall(text)\n",
        "print(\"Positive lookahead:\",matobj)"
      ],
      "metadata": {
        "colab": {
          "base_uri": "https://localhost:8080/"
        },
        "id": "t0jZ3Eh0Zp77",
        "outputId": "f2a579dd-3876-4d02-a621-86171a1594f2"
      },
      "execution_count": 4,
      "outputs": [
        {
          "output_type": "stream",
          "name": "stdout",
          "text": [
            "Positive lookahead: ['abc']\n"
          ]
        }
      ]
    },
    {
      "cell_type": "code",
      "source": [
        "# negative lookahead\n",
        "import re\n",
        "pat1=r'abc(?!abc)'\n",
        "text1=\"aeiouabcabc\"\n",
        "regobj1=re.compile(pat1)\n",
        "matobj1=regobj1.findall(text)\n",
        "print(\"Negative look ahead:\",matobj1) "
      ],
      "metadata": {
        "colab": {
          "base_uri": "https://localhost:8080/"
        },
        "id": "Exdhv7wuZxHw",
        "outputId": "3d991b52-ae6c-4514-9fe8-734d1f368d39"
      },
      "execution_count": 5,
      "outputs": [
        {
          "output_type": "stream",
          "name": "stdout",
          "text": [
            "Negative look ahead: ['abc']\n"
          ]
        }
      ]
    },
    {
      "cell_type": "markdown",
      "source": [
        "##Q7. What is the benefit of referring to groups by name rather than by number in a standard expression?\n",
        "### ANS The benifit of referring to the groups by name is that\n",
        "1.   The code is clear\n",
        "2.   It is easier to maintain the code.\n"
      ],
      "metadata": {
        "id": "DKZki0XTV9st"
      }
    },
    {
      "cell_type": "markdown",
      "source": [
        "##Q8. Can you identify repeated items within a target string using named groups, as in &quot;The cow jumped over the moon&quot;?\n",
        "\n"
      ],
      "metadata": {
        "id": "Mm0BwUU9V-Na"
      }
    },
    {
      "cell_type": "code",
      "source": [
        "## ANS\n",
        "import re\n",
        "a = \"The cow jumped over the moon\"\n",
        "regobj=re.compile(r'(?P<w1>The)',re.I)\n",
        "regobj.findall(a)"
      ],
      "metadata": {
        "colab": {
          "base_uri": "https://localhost:8080/"
        },
        "id": "vQyMoPvEaWkw",
        "outputId": "7cb147fa-13d9-480c-f559-a10f8f9ad941"
      },
      "execution_count": 6,
      "outputs": [
        {
          "output_type": "execute_result",
          "data": {
            "text/plain": [
              "['The', 'the']"
            ]
          },
          "metadata": {},
          "execution_count": 6
        }
      ]
    },
    {
      "cell_type": "markdown",
      "source": [
        "##Q9. When parsing a string, what is at least one thing that the Scanner interface does for you that the re.findall feature does not?\n",
        "### ANS re.search() method either returns None (if the pattern doesn’t match), or a re.MatchObject that contains information about the matching part of the string. This method stops after the first match, so this is best suited for testing a regular expression more than extracting data,whereas Return all non-overlapping matches of pattern in string, as a list of strings. The string is scanned left to right, and matches are returned in the order found.\n",
        "\n"
      ],
      "metadata": {
        "id": "t9UfKLgKV-Q6"
      }
    },
    {
      "cell_type": "markdown",
      "source": [
        "##Q10. Does a scanner object have to be named scanner?\n",
        "### ANS The scanner object need not be named scanner. It may have any name."
      ],
      "metadata": {
        "id": "T3-MafYYV-bZ"
      }
    }
  ]
}