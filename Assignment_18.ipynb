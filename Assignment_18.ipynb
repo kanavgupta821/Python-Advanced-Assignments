{
  "nbformat": 4,
  "nbformat_minor": 0,
  "metadata": {
    "colab": {
      "provenance": []
    },
    "kernelspec": {
      "name": "python3",
      "display_name": "Python 3"
    },
    "language_info": {
      "name": "python"
    }
  },
  "cells": [
    {
      "cell_type": "markdown",
      "source": [
        "##Q1. Describe the differences between text and binary files in a single paragraph.\n",
        "\n",
        "### ANS A text file consists of human readable characters, which can be opened by any text editor.A text file can be understood as a sequence of charactersconsisting of alphabets, numbers and other special symbols. Files with extensions like .txt, .py, .csv, etc. are some examples of text files. When we open a text file using a text editor (e.g., Notepad), we see several lines of text. However, the file contents are not stored in such a way internally. Rather, they are stored in sequence of bytes consisting of 0s and 1s. On the other hand, binary files are made up of non-human readable characters and symbols, which require specific programs to access its contents. Binary files are also stored in terms of bytes (0s and 1s),but unlike text files, these bytes do not represent the ASCII values of characters. Rather, they represent the actual content such as image, audio, video, compressed versions of other files, executable files, etc. These files are not human readable. Thus, trying to open a binary file using a text editor will show some garbage values. We need specific software to read or write the contents of a binary file."
      ],
      "metadata": {
        "id": "WVUV-6NKMEAO"
      }
    },
    {
      "cell_type": "markdown",
      "source": [
        "##Q2. What are some scenarios where using text files will be the better option? When would you like to use binary files instead of text files?\n",
        "\n",
        "### ANS A binary file is usually very much smaller than a text file that contains an equivalent amount of data. For image, video, and audio data this is important. Small files save storage space, can be transmitted faster, and are processed faster. I/O with smaller files is faster, too, since there are fewer bytes to move.\n",
        "\n"
      ],
      "metadata": {
        "id": "1GckLB_QMEHi"
      }
    },
    {
      "cell_type": "markdown",
      "source": [
        "##Q3. What are some of the issues with using binary operations to read and write a Python integer directly to disc?\n",
        "\n",
        "### ANS When we read or write a python integer using binary operations \n",
        "####a) Binary operations deal with raw data\n",
        "####b) one needs to identify how many bytes one would read or write."
      ],
      "metadata": {
        "id": "4lH-vTDOMENS"
      }
    },
    {
      "cell_type": "markdown",
      "source": [
        "##Q4. Describe a benefit of using the with keyword instead of explicitly opening a file.\n",
        "\n",
        "### ANS Using 'with' keyword means that the file will be closed as soon as you leave the block. This is beneficial because closing a file is something that can easily be forgotten and ties up resources that you no longer need."
      ],
      "metadata": {
        "id": "d451zj14MEPd"
      }
    },
    {
      "cell_type": "markdown",
      "source": [
        "##Q5. Does Python have the trailing newline while reading a line of text? Does Python append a newline when you write a line of text?\n",
        "### ANS While reading a newline of text from atext file, python reads the newline also. While writing the python doesnt append a new line at end of line. It has to be handled explicitly.\n",
        "\n"
      ],
      "metadata": {
        "id": "ODzi_S_SMERn"
      }
    },
    {
      "cell_type": "markdown",
      "source": [
        "##Q6. What file operations enable for random-access operation?\n",
        "\n",
        "### ANS The file operations like seek(pos,orig), tell() enable random access operations."
      ],
      "metadata": {
        "id": "2SH4a5QIMETx"
      }
    },
    {
      "cell_type": "markdown",
      "source": [
        "##Q7. When do you think you&#39;ll use the struct package the most?\n",
        "\n",
        "### ANS The struct package is mostly used while converting a common python types into 'C' language types.This is done by packing python variables into data fields of specific sizes.So, when we try read , right number of bytes are read. This useful when interacting with existing binary files. Reading and writing a single integer using struct package"
      ],
      "metadata": {
        "id": "38cW3RFmME_J"
      }
    },
    {
      "cell_type": "markdown",
      "source": [
        "##Q8. When is pickling the best option?\n",
        "\n",
        "### ANS Python pickle module is used for serializing and de-serializing a Python object structure. Any object in Python can be pickled so that it can be saved on disk. What pickle does is that it “serializes” the object first before writing it to file. Pickling is a way to convert a python object (list, dict, etc.) into a character stream. The idea is that this character stream contains all the information necessary to reconstruct the object in another python script."
      ],
      "metadata": {
        "id": "fpZ90jG9MFCJ"
      }
    },
    {
      "cell_type": "markdown",
      "source": [
        "##Q9. When will it be best to use the shelve package?\n",
        "\n",
        "### ANS Shelve package is used to pickle data but treats the entire file as dictionary. The location of any object is looked up according to its key and is returned easily."
      ],
      "metadata": {
        "id": "F79babsaMFFu"
      }
    },
    {
      "cell_type": "markdown",
      "source": [
        "##Q10. What is a special restriction when using the shelve package, as opposed to using other data dictionaries?\n",
        "### ANS A “shelf” is a persistent, dictionary-like object. The difference with “dbm” databases is that the values (not the keys!) in a shelf can be essentially arbitrary Python objects — anything that the pickle module can handle. This includes most class instances, recursive data types, and objects containing lots of shared sub-objects. The keys are ordinary strings."
      ],
      "metadata": {
        "id": "0M6zb1fwMFOO"
      }
    }
  ]
}