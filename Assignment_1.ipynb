{
  "nbformat": 4,
  "nbformat_minor": 0,
  "metadata": {
    "colab": {
      "provenance": []
    },
    "kernelspec": {
      "name": "python3",
      "display_name": "Python 3"
    },
    "language_info": {
      "name": "python"
    }
  },
  "cells": [
    {
      "cell_type": "markdown",
      "source": [
        "##Q1. What is the purpose of Python&#39;s OOP?\n",
        "\n",
        "### ANS  1. Provides a clear program structure and a clean code.\n",
        "###2. Facilitates easy maintenance and modification of existing code.\n",
        "###3.   Since the class is sharable, the code can be reused and many other such Advantages.\n",
        "\n",
        "\n",
        "\n",
        "\n",
        "\n",
        "\n",
        "\n",
        "\n",
        "\n"
      ],
      "metadata": {
        "id": "xzazlaCa54kd"
      }
    },
    {
      "cell_type": "markdown",
      "source": [
        "##Q2. Where does an inheritance search look for an attribute?\n",
        "\n",
        "### ANS An inheritance search looks for an attribute first in the instance object, then in the class the instance was created from, then in all higher superclasses, progressing from left to right (by default). The search stops at the first place the attribute is found."
      ],
      "metadata": {
        "id": "BDBx8WK-59vR"
      }
    },
    {
      "cell_type": "markdown",
      "source": [
        "##Q3. How do you distinguish between a class object and an instance object?\n",
        "\n",
        "### ANS **Class object** - when we create a class in python then a class object is created so whenever python finds a class statement in the whole program then it creates a class object and assigns a name to that object i.e. class name. As we know in python, everything is an object so the class itself is an object and is the instance of metaclasses. Look at the following example\n",
        "\n",
        "\n",
        "```\n",
        "class MyClass:\n",
        "pass\n",
        "\n",
        "```\n",
        "###above code will generate a class object and name it ‘MyClass’. From this class object, we will create instance objects.\n",
        "###The class object comes from the ‘class’ statement in code. whenever we encounter a class statement then a class object will be created.\n",
        "\n",
        "### **Instance object** - when we call a class, it creates an instance object of that class from which the object has been created. For example when we call the above-created class then it will create an instance object like this.\n",
        "\n",
        "\n",
        "```\n",
        "Obj1=MyClass()\n",
        "```\n",
        "###the above statement creates an object and names it to Obj1 which is an instance of MyClass.\n",
        "\n",
        "###Instance objects are real objects in your python code process. The instance object has access to attributes of the class from which it is created. For example, Obj1 is the instance of class MyClass so, Now Obj1 can access everything defined in the class, and in the class object, we define the default behavior and properties of objects.\n",
        "\n"
      ],
      "metadata": {
        "id": "xpBDr1Xn59iG"
      }
    },
    {
      "cell_type": "markdown",
      "source": [
        "##Q4. What makes the first argument in a class’s method function special?\n",
        "\n",
        "### ANS Self represents the instance of the class. By using the “self” keyword we can access the attributes and methods of the class in python. It binds the attributes with the given arguments.The reason you need to use self. is because Python does not use the @ syntax to refer to instance attributes. Python decided to do methods in a way that makes the instance to which the method belongs be passed automatically, but not received automatically: the first parameter of methods is the instance the method is called on.\n",
        "\n"
      ],
      "metadata": {
        "id": "pMukRm1h59eu"
      }
    },
    {
      "cell_type": "markdown",
      "source": [
        "##Q5. What is the purpose of the __init__ method?\n",
        "\n",
        "### ANS The task of init method is to initialize(assign values) to the data members of the class when an object of class is created. It contains collection of statements that are executed at time of Object creation. It is run as soon as an object of a class is instantiated. The method is useful to do any initialization you want to do with your object."
      ],
      "metadata": {
        "id": "qnuJ0VEP59cA"
      }
    },
    {
      "cell_type": "markdown",
      "source": [
        "##Q6. What is the process for creating a class instance?\n",
        "\n",
        "### ANS To create instances of a class, you call the class using class name and pass in whatever arguments its init method accepts."
      ],
      "metadata": {
        "id": "xyfBKH_g59ZU"
      }
    },
    {
      "cell_type": "markdown",
      "source": [
        "##Q7. What is the process for creating a class?\n",
        "\n",
        "### ANS The class statement creates a new class definition. The name of the class immediately follows the keyword class followed by a colon.Explained below"
      ],
      "metadata": {
        "id": "qI0cF-eR59W9"
      }
    },
    {
      "cell_type": "code",
      "source": [
        "class student:\n",
        "  def __init__(self,name):\n",
        "    self.name = name\n",
        "\n",
        "  def __str__(self):\n",
        "    return f\"This is {self.name} (an instance of a class student)\""
      ],
      "metadata": {
        "id": "8k61JH8Z_W7A"
      },
      "execution_count": 1,
      "outputs": []
    },
    {
      "cell_type": "code",
      "source": [
        "s1 = student('John')\n",
        "print(s1)"
      ],
      "metadata": {
        "colab": {
          "base_uri": "https://localhost:8080/"
        },
        "id": "POUMdcXT_wHf",
        "outputId": "96e22b5a-fa19-4c27-f40c-5ec89e138a9e"
      },
      "execution_count": 2,
      "outputs": [
        {
          "output_type": "stream",
          "name": "stdout",
          "text": [
            "This is John (an instance of a class student)\n"
          ]
        }
      ]
    },
    {
      "cell_type": "markdown",
      "source": [
        "##Q8. How would you define the superclasses of a class?\n",
        "### ANS A superclass is the class from which many subclasses can be created. The subclasses inherit the characteristics of a superclass. The superclass is also known as the parent class or base class."
      ],
      "metadata": {
        "id": "zyin8gSn59UV"
      }
    },
    {
      "cell_type": "code",
      "source": [
        "class A:\n",
        "  def method_a(self):\n",
        "    return 'this is method of class A'\n",
        "\n",
        "class B(A):\n",
        "  def method_b(self):\n",
        "    return 'this is method of class B'\n",
        "\n",
        "class C(A):\n",
        "  def method_c(self):\n",
        "    return 'this is method of class C'\n",
        "\n",
        "class D(A):\n",
        "  def method_d(self):\n",
        "    return 'this is method of class D'\n",
        "\n",
        "a = A()\n",
        "b = B()\n",
        "c = C()\n",
        "d = D()\n",
        "\n",
        "print(a.method_a())\n",
        "print(b.method_b())\n",
        "print(c.method_c())\n",
        "print(d.method_d())\n",
        "print(b.method_a())\n",
        "print(c.method_a())\n",
        "print(d.method_a())"
      ],
      "metadata": {
        "colab": {
          "base_uri": "https://localhost:8080/"
        },
        "id": "Aozi3MUa_3Ih",
        "outputId": "d731eecb-e367-4db5-8a07-1be0ced6e572"
      },
      "execution_count": 5,
      "outputs": [
        {
          "output_type": "stream",
          "name": "stdout",
          "text": [
            "this is method of class A\n",
            "this is method of class B\n",
            "this is method of class C\n",
            "this is method of class D\n",
            "this is method of class A\n",
            "this is method of class A\n",
            "this is method of class A\n"
          ]
        }
      ]
    }
  ]
}