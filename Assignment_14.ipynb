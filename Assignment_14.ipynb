{
  "nbformat": 4,
  "nbformat_minor": 0,
  "metadata": {
    "colab": {
      "provenance": []
    },
    "kernelspec": {
      "name": "python3",
      "display_name": "Python 3"
    },
    "language_info": {
      "name": "python"
    }
  },
  "cells": [
    {
      "cell_type": "markdown",
      "source": [
        "##Q1. Is an assignment operator like += only for show? Is it possible that it would lead to faster results at the runtime?\n",
        "### ANS += is fatser and easy to write for us. runtime of a += 5 is slightly less than a = a + 5 but, the difference is really minor.\n",
        "\n"
      ],
      "metadata": {
        "id": "zEhWBuR_-5aQ"
      }
    },
    {
      "cell_type": "markdown",
      "source": [
        "##Q2. What is the smallest number of statements you&#39;d have to write in most programming languages to replace the Python expression a, b = a + b, a?\n",
        "### ANS Two\n",
        "\n"
      ],
      "metadata": {
        "id": "LMsJUwGk-8LL"
      }
    },
    {
      "cell_type": "markdown",
      "source": [
        "##Q3. In Python, what is the most effective way to set a list of 100 integers to 0?\n",
        "\n"
      ],
      "metadata": {
        "id": "m8QZ5meQ-8Nq"
      }
    },
    {
      "cell_type": "code",
      "source": [
        "## ANS \n",
        "l = [0]*100\n",
        "print(l)"
      ],
      "metadata": {
        "colab": {
          "base_uri": "https://localhost:8080/"
        },
        "id": "kQUpnl0uAD3z",
        "outputId": "6e1325d8-63b8-4d1c-aeb2-a5d5f2a73487"
      },
      "execution_count": 1,
      "outputs": [
        {
          "output_type": "stream",
          "name": "stdout",
          "text": [
            "[0, 0, 0, 0, 0, 0, 0, 0, 0, 0, 0, 0, 0, 0, 0, 0, 0, 0, 0, 0, 0, 0, 0, 0, 0, 0, 0, 0, 0, 0, 0, 0, 0, 0, 0, 0, 0, 0, 0, 0, 0, 0, 0, 0, 0, 0, 0, 0, 0, 0, 0, 0, 0, 0, 0, 0, 0, 0, 0, 0, 0, 0, 0, 0, 0, 0, 0, 0, 0, 0, 0, 0, 0, 0, 0, 0, 0, 0, 0, 0, 0, 0, 0, 0, 0, 0, 0, 0, 0, 0, 0, 0, 0, 0, 0, 0, 0, 0, 0, 0]\n"
          ]
        }
      ]
    },
    {
      "cell_type": "markdown",
      "source": [
        "##Q4. What is the most effective way to initialise a list of 99 integers that repeats the sequence 1, 2, 3? S If necessary, show step-by-step instructions on how to accomplish this.\n",
        "\n"
      ],
      "metadata": {
        "id": "fpaSvsDJ-8Ql"
      }
    },
    {
      "cell_type": "code",
      "source": [
        "## ANS\n",
        "l = [1,2,3]                 # create a list containing 1,2,3\n",
        "count = int(101/len(l))     # repeat count\n",
        "l1 = l * count\n",
        "print(l1)"
      ],
      "metadata": {
        "colab": {
          "base_uri": "https://localhost:8080/"
        },
        "id": "LjPmtoenAL0c",
        "outputId": "9d1be02a-5a45-4d1c-8220-15302be86457"
      },
      "execution_count": 2,
      "outputs": [
        {
          "output_type": "stream",
          "name": "stdout",
          "text": [
            "[1, 2, 3, 1, 2, 3, 1, 2, 3, 1, 2, 3, 1, 2, 3, 1, 2, 3, 1, 2, 3, 1, 2, 3, 1, 2, 3, 1, 2, 3, 1, 2, 3, 1, 2, 3, 1, 2, 3, 1, 2, 3, 1, 2, 3, 1, 2, 3, 1, 2, 3, 1, 2, 3, 1, 2, 3, 1, 2, 3, 1, 2, 3, 1, 2, 3, 1, 2, 3, 1, 2, 3, 1, 2, 3, 1, 2, 3, 1, 2, 3, 1, 2, 3, 1, 2, 3, 1, 2, 3, 1, 2, 3, 1, 2, 3, 1, 2, 3]\n"
          ]
        }
      ]
    },
    {
      "cell_type": "markdown",
      "source": [
        "##Q5. If you&#39;re using IDLE to run a Python application, explain how to print a multidimensional list as efficiently?\n",
        "\n",
        "### ANS We can print multidimentional list by simply writing the name of the variable in a cell."
      ],
      "metadata": {
        "id": "iYlIqHxt-8TC"
      }
    },
    {
      "cell_type": "code",
      "source": [
        "l = [[1,2,3,4],[5,6,7,8],[9,10,11,12]]\n",
        "print(l)"
      ],
      "metadata": {
        "colab": {
          "base_uri": "https://localhost:8080/"
        },
        "id": "DHd8S6HyBGZt",
        "outputId": "ebdeb80b-c6be-41f4-ca0b-8b51235a11eb"
      },
      "execution_count": 3,
      "outputs": [
        {
          "output_type": "stream",
          "name": "stdout",
          "text": [
            "[[1, 2, 3, 4], [5, 6, 7, 8], [9, 10, 11, 12]]\n"
          ]
        }
      ]
    },
    {
      "cell_type": "markdown",
      "source": [
        "##Q6. Is it possible to use list comprehension with a string? If so, how can you go about doing it?\n",
        "\n",
        "### ANS Yes, it is possible as string is an iterable object."
      ],
      "metadata": {
        "id": "GWa1fKdA-8V5"
      }
    },
    {
      "cell_type": "code",
      "source": [
        "a = 'abcdefgh'\n",
        "l = [i*2 for i in a]\n",
        "print(l)"
      ],
      "metadata": {
        "colab": {
          "base_uri": "https://localhost:8080/"
        },
        "id": "DqB_SmbhBWas",
        "outputId": "07a13e91-6b9e-451b-9711-f25ab80a1f64"
      },
      "execution_count": 5,
      "outputs": [
        {
          "output_type": "stream",
          "name": "stdout",
          "text": [
            "['aa', 'bb', 'cc', 'dd', 'ee', 'ff', 'gg', 'hh']\n"
          ]
        }
      ]
    },
    {
      "cell_type": "markdown",
      "source": [
        "##Q7. From the command line, how do you get support with a user-written Python programme? Is this possible from inside IDLE?\n",
        "### ANS Steps for command line:\n",
        "\n",
        "    1. Open command prompt.\n",
        "    2. Go to the directory containing python program file(.py)\n",
        "    3. Type \"python file_name.py\", press enter to run the file.\n",
        "\n",
        "Steps for python IDLE:\n",
        "\n",
        "    1. Open python IDLE.\n",
        "    2. Click on file>open>file_name.py\n",
        "    3. Press F5 key to run the program.\n",
        "\n"
      ],
      "metadata": {
        "id": "34xxhrJH-8ZY"
      }
    },
    {
      "cell_type": "markdown",
      "source": [
        "##Q8. Functions are said to be “first-class objects” in Python but not in most other languages, such as C++ or Java. What can you do in Python with a function (callable object) that you can&#39;t do in C or C++?\n",
        "### ANS In Python, functions are like any other object, such as an int or a list. That means that you can use functions as arguments to other functions, store functions as dictionary values, or return a function from another function. This leads to many powerful ways to use functions.\n",
        "\n"
      ],
      "metadata": {
        "id": "ZAKJFMAt-88O"
      }
    },
    {
      "cell_type": "markdown",
      "source": [
        "##Q9. How do you distinguish between a wrapper, a wrapped feature, and a decorator?\n",
        "\n",
        "### ANS A wrapper, a wrapped feature, and a decorator are all same. They can be thought of as functions which modify the functionality of another function. They help to make your code shorter and more \"Pythonic\"."
      ],
      "metadata": {
        "id": "Li_MRpuK-8_v"
      }
    },
    {
      "cell_type": "markdown",
      "source": [
        "##Q10. If a function is a generator function, what does it return?\n",
        "\n",
        "### ANS If a function is a generator function, it does not return any values, instead, it return an iterator object, which we can iterate through to get values."
      ],
      "metadata": {
        "id": "VXz86HPy-9Do"
      }
    },
    {
      "cell_type": "markdown",
      "source": [
        "##Q11. What is the one improvement that must be made to a function in order for it to become a generator function in the Python language?\n",
        "\n",
        "### ANS We can use \"yield\" keyword instead of \"return\" to make function a generator."
      ],
      "metadata": {
        "id": "jTjteEMa-9HS"
      }
    },
    {
      "cell_type": "code",
      "source": [
        "def even(n):\n",
        "  for i in range(n):\n",
        "    if i % 2 == 0:\n",
        "      yield i\n",
        "\n",
        "for i in even(10):\n",
        "  print(i)"
      ],
      "metadata": {
        "colab": {
          "base_uri": "https://localhost:8080/"
        },
        "id": "RJBApxq3CJIo",
        "outputId": "a7487edd-8c68-4441-e973-602fe0d689c6"
      },
      "execution_count": 6,
      "outputs": [
        {
          "output_type": "stream",
          "name": "stdout",
          "text": [
            "0\n",
            "2\n",
            "4\n",
            "6\n",
            "8\n"
          ]
        }
      ]
    },
    {
      "cell_type": "markdown",
      "source": [
        "##Q12. Identify at least one benefit of generators.\n",
        "### ANS The main advantage here is that instead of having to compute an entire series of values up front, the generator computes one value and then suspends its activity awaiting the next instruction. This feature is known as state suspension.\n",
        "\n",
        "###Generators are memory efficient."
      ],
      "metadata": {
        "id": "OweKiC7Q-9q1"
      }
    }
  ]
}