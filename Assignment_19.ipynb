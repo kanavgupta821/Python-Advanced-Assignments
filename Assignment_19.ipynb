{
  "nbformat": 4,
  "nbformat_minor": 0,
  "metadata": {
    "colab": {
      "provenance": []
    },
    "kernelspec": {
      "name": "python3",
      "display_name": "Python 3"
    },
    "language_info": {
      "name": "python"
    }
  },
  "cells": [
    {
      "cell_type": "markdown",
      "source": [
        "##Q1. Define the relationship between a class and its instances. Is it a one-to-one or a one-to-many partnership, for example?\n",
        "### ANS Class is abstraction of an real world entity. It consists of attributes and methods. Instance is an object of a class. It one to many relationship between class and its instatnces.\n",
        "\n"
      ],
      "metadata": {
        "id": "h0wPUdPNQSkW"
      }
    },
    {
      "cell_type": "markdown",
      "source": [
        "##Q2. What kind of data is held only in an instance?\n",
        "\n",
        "### ANS Instance objects contains the Instance variables which are specific to that specific Instance object."
      ],
      "metadata": {
        "id": "b_RKhWRxQSnZ"
      }
    },
    {
      "cell_type": "markdown",
      "source": [
        "##Q3. What kind of knowledge is stored in a class?\n",
        "\n",
        "### ANS Class creates a user-defined data structure, which holds its own data members and member functions,which can be accessed and used by creating an instance of that class. A class is like a blueprint for an object. "
      ],
      "metadata": {
        "id": "VcLurGY4QSpd"
      }
    },
    {
      "cell_type": "markdown",
      "source": [
        "##Q4. What exactly is a method, and how is it different from a regular function?\n",
        "\n",
        "### ANS The methods with a class can be used to access the insatnce variables of its instance. So, the object's state can be modified by its method.Function cant access the attributes of an instance of a class or cant modify the state of the object."
      ],
      "metadata": {
        "id": "62gncnPCQSr-"
      }
    },
    {
      "cell_type": "markdown",
      "source": [
        "##Q5. Is inheritance supported in Python, and if so, what is the syntax?\n",
        "\n"
      ],
      "metadata": {
        "id": "SfpoM6rpQSur"
      }
    },
    {
      "cell_type": "code",
      "source": [
        "## ANS \n",
        "class A: \n",
        "  var=1\n",
        "  def __init__(self):\n",
        "    pass\n",
        "class B(A): # class B is derived from class A\n",
        "  def __init__(self):\n",
        "    super().__init__()\n",
        "c=B()\n",
        "print(\"Class of Instance:\",c.__class__)\n",
        "print(\"Base class:\",c.__class__.__bases__)"
      ],
      "metadata": {
        "colab": {
          "base_uri": "https://localhost:8080/"
        },
        "id": "1GPzA94mRlv2",
        "outputId": "1c023e3d-bae5-4853-862f-10bda4940166"
      },
      "execution_count": 2,
      "outputs": [
        {
          "output_type": "stream",
          "name": "stdout",
          "text": [
            "Class of Instance: <class '__main__.B'>\n",
            "Base class: (<class '__main__.A'>,)\n"
          ]
        }
      ]
    },
    {
      "cell_type": "markdown",
      "source": [
        "##Q6. How much encapsulation (making instance or class variables private) does Python support?\n",
        "\n",
        "### ANS Encapsulation prevents from accessing accidentally, but not intentionally. The private attributes and methods are not really hidden. The private attributes can be accessed within the object method."
      ],
      "metadata": {
        "id": "ccT50AfdQSzU"
      }
    },
    {
      "cell_type": "markdown",
      "source": [
        "##Q7. How do you distinguish between a class variable and an instance variable?\n",
        "\n",
        "### ANS The class attribute is available to all the instance objects of that class. Instance variable is accessible only to the object or Instance of that class."
      ],
      "metadata": {
        "id": "LmZLJ1JGQS2t"
      }
    },
    {
      "cell_type": "markdown",
      "source": [
        "##Q8. When, if ever, can self be included in a class&#39;s method definitions?\n",
        "\n",
        "### ANS self can included to access the class variables and instance variiables."
      ],
      "metadata": {
        "id": "j36Sn4DKQTDc"
      }
    },
    {
      "cell_type": "markdown",
      "source": [
        "##Q9. What is the difference between the _ _add_ _ and the _ _radd_ _ methods?\n",
        "\n",
        "### ANS When you add two numbers using the + operator, internally, the __add__() method will be called. We can overload this method to perform."
      ],
      "metadata": {
        "id": "GG1tvYvUQTGU"
      }
    },
    {
      "cell_type": "markdown",
      "source": [
        "##Q10. When is it necessary to use a reflection method? When do you not need it, even though you support the operation in question?\n",
        "\n",
        "### ANS Suppose we are implementing a class that you want to act like a number via operator overloading.So we implement __add__ in your class, and now expressions like obj + 10 is acceptable.This is because obj + 10 is interpreted as obj.__add__(10), and the custom method __add__ can do whatever it means to add 10 to custom class. However, what about an expression like 10 + obj which is really (10).__add__(myobj)? The 10 is an instance of a Python built-in type and its __add__ method doesn't know anything about the new type,obj, so it will return a error NotImplemented. To handle such scenarios, __radd__ is used. Python will first try (10).__add__(myobj), and if that returns NotImplemented, Python will check if the right-hand operand implements __radd__, and if it does, it will call obj.__radd__(10) rather than raising a TypeError."
      ],
      "metadata": {
        "id": "iqVM6gwFQTJy"
      }
    },
    {
      "cell_type": "markdown",
      "source": [
        "##Q11. What is the _ _iadd_ _ method called?\n",
        "\n",
        "### ANS __iadd__ method is called when we use implementation like a+=b which is a.__iadd__(b)"
      ],
      "metadata": {
        "id": "lrG-RoEdQlVj"
      }
    },
    {
      "cell_type": "code",
      "source": [
        "class A:\n",
        "  def __init__(self,x):\n",
        "    self.x=x\n",
        "  def __iadd__(self,other):\n",
        "    self.x += other.x\n",
        "    return self.x\n",
        "obj1=A(2)\n",
        "obj2=A(3)\n",
        "obj1+=obj2\n",
        "print(obj1)"
      ],
      "metadata": {
        "colab": {
          "base_uri": "https://localhost:8080/"
        },
        "id": "cZmDbKPoSwPn",
        "outputId": "00a90df7-7f90-4aaa-a8cb-3337f52b3b6e"
      },
      "execution_count": 4,
      "outputs": [
        {
          "output_type": "stream",
          "name": "stdout",
          "text": [
            "5\n"
          ]
        }
      ]
    },
    {
      "cell_type": "markdown",
      "source": [
        "##Q12. Is the _ _init_ _ method inherited by subclasses? What do you do if you need to customize its behavior within a \n",
        "### ANS __init__ method is inherited by its subclass. But it can be overloaded, to customize itsubclass?"
      ],
      "metadata": {
        "id": "n4W3Me8XQnpT"
      }
    },
    {
      "cell_type": "code",
      "source": [
        "class A:\n",
        "  def __init__(self,x):\n",
        "    self.x=x\n",
        "class B(A):\n",
        "    pass\n",
        "obj=B(2)\n",
        "obj.x \n",
        "#        here the value x is accessible to instance of class B which is subclass of class A.This means\n",
        "#        __init__ of class A is inherited in sub class B\n",
        "class C(A):\n",
        "  def __init__(self,x,y): # Here we are overloading the __init__ inherited from class A \n",
        "    self.x=x\n",
        "    self.y=y\n",
        "  def func(self):\n",
        "    return(self.x + self.y)\n",
        "obj1=C(3,4)\n",
        "obj1.func()"
      ],
      "metadata": {
        "colab": {
          "base_uri": "https://localhost:8080/"
        },
        "id": "GS29b3JQS80c",
        "outputId": "b01740d2-1c45-4a7d-f3df-8f168f5cb9e6"
      },
      "execution_count": 5,
      "outputs": [
        {
          "output_type": "execute_result",
          "data": {
            "text/plain": [
              "7"
            ]
          },
          "metadata": {},
          "execution_count": 5
        }
      ]
    }
  ]
}