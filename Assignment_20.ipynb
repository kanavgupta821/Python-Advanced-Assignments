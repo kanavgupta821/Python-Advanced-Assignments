{
  "nbformat": 4,
  "nbformat_minor": 0,
  "metadata": {
    "colab": {
      "provenance": []
    },
    "kernelspec": {
      "name": "python3",
      "display_name": "Python 3"
    },
    "language_info": {
      "name": "python"
    }
  },
  "cells": [
    {
      "cell_type": "markdown",
      "source": [
        "##1. Compare and contrast the float and Decimal classes&#39; benefits and drawbacks.\n",
        "\n",
        "### ANS Both the float and decimal types store numerical values in Python, and at the beginning, choosing when to use each can be confusing.\n",
        "###Use floats when convenience and speed matter. A float gives you an approximation of the number you declare. For example, if I print 0.1 with 18 decimals places, I don’t actually get 0.1 but instead an approximation.\n",
        "###Use decimals when precision matters, such as with financial calculations. Decimals can suffer from their own precision issues, but generally, decimals are more precise than floats. The performance difference between float and decimal, with Python 3, is not outlandish, and in my experience, the precision benefits of a decimal outweigh the performance benefits of a float.\n"
      ],
      "metadata": {
        "id": "m334YchmZyz0"
      }
    },
    {
      "cell_type": "markdown",
      "source": [
        "##2. Decimal(&#39;1.200&#39;) and Decimal(&#39;1.2&#39;) are two objects to consider. In what sense are these the same object? Are these just two ways of representing the exact same value, or do they correspond to different internal states?\n",
        "\n",
        "### ANS Though they are identical value wise, internal representation or internal state of these two values are different, as they have decimal values of different precisions."
      ],
      "metadata": {
        "id": "kTELRqYbZy44"
      }
    },
    {
      "cell_type": "code",
      "source": [
        "from decimal import Decimal\n",
        "print(Decimal('1.200'))\n",
        "print(Decimal('1.2'))"
      ],
      "metadata": {
        "colab": {
          "base_uri": "https://localhost:8080/"
        },
        "id": "AFd4UYAifH4p",
        "outputId": "c0cc7365-bbcf-47c1-be41-24f0a37b8408"
      },
      "execution_count": 1,
      "outputs": [
        {
          "output_type": "stream",
          "name": "stdout",
          "text": [
            "1.200\n",
            "1.2\n"
          ]
        }
      ]
    },
    {
      "cell_type": "markdown",
      "source": [
        "##3. What happens if the equality of Decimal(&#39;1.200&#39;) and Decimal(&#39;1.2&#39;) is checked?\n",
        "\n"
      ],
      "metadata": {
        "id": "a-5PU8agZy9I"
      }
    },
    {
      "cell_type": "code",
      "source": [
        "## ANS - It returns that the values are stored are True.\n",
        "print(Decimal('1.200') == Decimal('1.2'))"
      ],
      "metadata": {
        "colab": {
          "base_uri": "https://localhost:8080/"
        },
        "id": "lEXlww-2fWGm",
        "outputId": "38877fd4-14c3-4c10-a4a8-39b564de2c23"
      },
      "execution_count": 2,
      "outputs": [
        {
          "output_type": "stream",
          "name": "stdout",
          "text": [
            "True\n"
          ]
        }
      ]
    },
    {
      "cell_type": "markdown",
      "source": [
        "##4. Why is it preferable to start a Decimal object with a string rather than a floating-point value?\n",
        "\n",
        "### ANS  Floating-point value is converted to Decimal format. Decimal can store float value with absolute precision. But when float value is given as Decimal object,it first has to be converted from floating point value which might already have rounding error. Hence it is preferable to start a Decimal object with a string."
      ],
      "metadata": {
        "id": "5YFhihh3ZzAy"
      }
    },
    {
      "cell_type": "code",
      "source": [
        "from decimal import Decimal\n",
        "a=Decimal(0.3) #0.3 is a float\n",
        "print(a) # It is not stored exactly as 0.3 but as printed.\n",
        "b=Decimal('0.3') #'0.3' is a string\n",
        "print(b) #It exactly prints 0.3, precisely, with correct precision."
      ],
      "metadata": {
        "colab": {
          "base_uri": "https://localhost:8080/"
        },
        "id": "PqKibMwBfrkI",
        "outputId": "3234600a-1e68-4a06-fc0b-d30e8f3edb51"
      },
      "execution_count": 3,
      "outputs": [
        {
          "output_type": "stream",
          "name": "stdout",
          "text": [
            "0.299999999999999988897769753748434595763683319091796875\n",
            "0.3\n"
          ]
        }
      ]
    },
    {
      "cell_type": "markdown",
      "source": [
        "##5. In an arithmetic phrase, how simple is it to combine Decimal objects with integers?\n",
        "\n"
      ],
      "metadata": {
        "id": "q7b6RzvUZzDl"
      }
    },
    {
      "cell_type": "code",
      "source": [
        "## ANS \n",
        "from decimal import Decimal\n",
        "val=2\n",
        "print(type(val))\n",
        "a=Decimal(val)\n",
        "print(a)\n",
        "b=a*Decimal(val)\n",
        "print(b)"
      ],
      "metadata": {
        "colab": {
          "base_uri": "https://localhost:8080/"
        },
        "id": "2ur3kuWNf3Ek",
        "outputId": "943e69e1-d46d-452e-89a5-3a615dff5d84"
      },
      "execution_count": 4,
      "outputs": [
        {
          "output_type": "stream",
          "name": "stdout",
          "text": [
            "<class 'int'>\n",
            "2\n",
            "4\n"
          ]
        }
      ]
    },
    {
      "cell_type": "markdown",
      "source": [
        "##6. Can Decimal objects and floating-point values be combined easily?\n",
        "\n",
        "### ANS Arithmetic operations like Adding,subtracting or multiplying a Decimal object by a floating-point value generates an error. To do these operations, the floating point has to be converted to a Decimal object—for example, converting from a floating-point value and then rounding. Else, arithmetic operations between the two types cause runtime errors."
      ],
      "metadata": {
        "id": "YhEHWC_6ZzFj"
      }
    },
    {
      "cell_type": "code",
      "source": [
        "from decimal import Decimal\n",
        "val=0.4\n",
        "b=Decimal(val)\n",
        "print(\"Muliplication:\",Decimal('0.3')*b ) # Multiplying a decimal object with float value converted to Decimal\n",
        "print(Decimal('0.3')*val)# Error when Decimal obeject is multiplied by a float"
      ],
      "metadata": {
        "colab": {
          "base_uri": "https://localhost:8080/",
          "height": 217
        },
        "id": "WNWBXxMhgarB",
        "outputId": "f56f6070-65df-47b6-8ec6-afa3af601af6"
      },
      "execution_count": 6,
      "outputs": [
        {
          "output_type": "stream",
          "name": "stdout",
          "text": [
            "Muliplication: 0.1200000000000000066613381478\n"
          ]
        },
        {
          "output_type": "error",
          "ename": "TypeError",
          "evalue": "ignored",
          "traceback": [
            "\u001b[0;31m---------------------------------------------------------------------------\u001b[0m",
            "\u001b[0;31mTypeError\u001b[0m                                 Traceback (most recent call last)",
            "\u001b[0;32m<ipython-input-6-9af61aa73e01>\u001b[0m in \u001b[0;36m<cell line: 5>\u001b[0;34m()\u001b[0m\n\u001b[1;32m      3\u001b[0m \u001b[0mb\u001b[0m\u001b[0;34m=\u001b[0m\u001b[0mDecimal\u001b[0m\u001b[0;34m(\u001b[0m\u001b[0mval\u001b[0m\u001b[0;34m)\u001b[0m\u001b[0;34m\u001b[0m\u001b[0;34m\u001b[0m\u001b[0m\n\u001b[1;32m      4\u001b[0m \u001b[0mprint\u001b[0m\u001b[0;34m(\u001b[0m\u001b[0;34m\"Muliplication:\"\u001b[0m\u001b[0;34m,\u001b[0m\u001b[0mDecimal\u001b[0m\u001b[0;34m(\u001b[0m\u001b[0;34m'0.3'\u001b[0m\u001b[0;34m)\u001b[0m\u001b[0;34m*\u001b[0m\u001b[0mb\u001b[0m \u001b[0;34m)\u001b[0m \u001b[0;31m# Multiplying a decimal object with float value converted to Decimal\u001b[0m\u001b[0;34m\u001b[0m\u001b[0;34m\u001b[0m\u001b[0m\n\u001b[0;32m----> 5\u001b[0;31m \u001b[0mprint\u001b[0m\u001b[0;34m(\u001b[0m\u001b[0mDecimal\u001b[0m\u001b[0;34m(\u001b[0m\u001b[0;34m'0.3'\u001b[0m\u001b[0;34m)\u001b[0m\u001b[0;34m*\u001b[0m\u001b[0mval\u001b[0m\u001b[0;34m)\u001b[0m\u001b[0;31m# Error when Decimal obeject is multiplied by a float\u001b[0m\u001b[0;34m\u001b[0m\u001b[0;34m\u001b[0m\u001b[0m\n\u001b[0m",
            "\u001b[0;31mTypeError\u001b[0m: unsupported operand type(s) for *: 'decimal.Decimal' and 'float'"
          ]
        }
      ]
    },
    {
      "cell_type": "markdown",
      "source": [
        "##7. Using the Fraction class but not the Decimal class, give an example of a quantity that can be expressed with absolute precision.\n",
        "\n"
      ],
      "metadata": {
        "id": "6flaq5IZZzHF"
      }
    },
    {
      "cell_type": "code",
      "source": [
        "## ANS \n",
        "from fractions import Fraction\n",
        "val=0.5\n",
        "f=Fraction(val)\n",
        "print(f)"
      ],
      "metadata": {
        "colab": {
          "base_uri": "https://localhost:8080/"
        },
        "id": "MSU0nQOWgh1M",
        "outputId": "0c940a60-7b79-4788-e90f-23e0b3d10157"
      },
      "execution_count": 7,
      "outputs": [
        {
          "output_type": "stream",
          "name": "stdout",
          "text": [
            "1/2\n"
          ]
        }
      ]
    },
    {
      "cell_type": "markdown",
      "source": [
        "##8. Describe a quantity that can be accurately expressed by the Decimal or Fraction classes but not by a floating-point value.\n",
        "\n"
      ],
      "metadata": {
        "id": "I_AhinDzZzyV"
      }
    },
    {
      "cell_type": "code",
      "source": [
        "## ANS \n",
        "a=Decimal('0.1') * Decimal('0.1')\n",
        "print(\"decimal=\",a)\n",
        "b=Fraction('1/10') * Fraction('1/10')\n",
        "print(\"fraction=\",b)\n",
        "c=0.1*0.1\n",
        "print(\"float value=\",c)"
      ],
      "metadata": {
        "colab": {
          "base_uri": "https://localhost:8080/"
        },
        "id": "0wN6Ri9IgrzC",
        "outputId": "ee10ac43-87d6-4d5b-8156-e1981e1cd2fd"
      },
      "execution_count": 8,
      "outputs": [
        {
          "output_type": "stream",
          "name": "stdout",
          "text": [
            "decimal= 0.01\n",
            "fraction= 1/100\n",
            "float value= 0.010000000000000002\n"
          ]
        }
      ]
    },
    {
      "cell_type": "markdown",
      "source": [
        "##9. Consider the following two fraction objects: Fraction(1, 2) and Fraction(1, 2). (5, 10). Is the internal state of these two objects the same? Why do you think that is?\n",
        "\n"
      ],
      "metadata": {
        "id": "cYk0WC_iZz17"
      }
    },
    {
      "cell_type": "code",
      "source": [
        "## ANS  \n",
        "from fractions import Fraction\n",
        "f1=Fraction(1, 2)\n",
        "print(f1)\n",
        "f2=Fraction(5, 10)\n",
        "print(f2)\n",
        "if (f1 == f2 ):\n",
        "    print('Fraction (1,2) and Fraction(5,10) are equal')\n",
        "#    The internal state of both are same as Fraction(5,10) is reduced to simplest form. \n",
        "#    Hence 1/2 is printed in both the cases."
      ],
      "metadata": {
        "colab": {
          "base_uri": "https://localhost:8080/"
        },
        "id": "t9tRaZwmhDe6",
        "outputId": "61673069-10d8-4e77-bcc5-24e9a5ab954a"
      },
      "execution_count": 9,
      "outputs": [
        {
          "output_type": "stream",
          "name": "stdout",
          "text": [
            "1/2\n",
            "1/2\n",
            "Fraction (1,2) and Fraction(5,10) are equal\n"
          ]
        }
      ]
    },
    {
      "cell_type": "markdown",
      "source": [
        "##10. How do the Fraction class and the integer type (int) relate to each other? Containment or inheritance?\n",
        "### ANS Fraction class and integer type(int) are related in form of a container.It contains two ints, one the numerator and the other the denominator."
      ],
      "metadata": {
        "id": "bT_ptP0raMw5"
      }
    },
    {
      "cell_type": "code",
      "source": [
        "from fractions import Fraction\n",
        "\n",
        "f = Fraction(1,2)\n",
        "print('numerator is', f.numerator,type(f.numerator))\n",
        "print('denominator is', f.denominator,type(f.numerator) )"
      ],
      "metadata": {
        "colab": {
          "base_uri": "https://localhost:8080/"
        },
        "id": "SHGg-1AbhXFQ",
        "outputId": "8c62a800-2130-4bf1-bf5e-15d09990f3ae"
      },
      "execution_count": 10,
      "outputs": [
        {
          "output_type": "stream",
          "name": "stdout",
          "text": [
            "numerator is 1 <class 'int'>\n",
            "denominator is 2 <class 'int'>\n"
          ]
        }
      ]
    }
  ]
}