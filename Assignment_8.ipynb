{
  "nbformat": 4,
  "nbformat_minor": 0,
  "metadata": {
    "colab": {
      "provenance": []
    },
    "kernelspec": {
      "name": "python3",
      "display_name": "Python 3"
    },
    "language_info": {
      "name": "python"
    }
  },
  "cells": [
    {
      "cell_type": "markdown",
      "source": [
        "##Q1. What are the two latest user-defined exception constraints in Python 3.X?\n",
        "### ANS \n",
        "\n",
        "1.  raise statement - This is used to raise an inbuilt exception explicitly.\n",
        "2. assert statement - when condition in assert statement is true, program is executed normally. When condition is false, program gives an AssertionError.\n",
        "\n",
        "\n"
      ],
      "metadata": {
        "id": "1mx0OYHyWbdH"
      }
    },
    {
      "cell_type": "markdown",
      "source": [
        "##Q2. How are class-based exceptions that have been raised matched to handlers?\n",
        "\n",
        "### ANS When exceptions are raised, then the exception is handled by the same class mentioned in except statement or its base classes. \"Exception\" is the base class(Superclass) for all other exception classes."
      ],
      "metadata": {
        "id": "sy-RQnh-Wbfu"
      }
    },
    {
      "cell_type": "markdown",
      "source": [
        "##Q3. Describe two methods for attaching context information to exception artefacts.\n",
        "\n",
        "### ANS \n",
        "\n",
        "1.   By using logging.exception() method, we can log log messages with level ERROR on the logger. I will store the information like type of error, line number, file name and path.\n",
        "2. By using raise keyword. It will also display Traceback of the recent exception raised.\n",
        "\n"
      ],
      "metadata": {
        "id": "EvUcbmamWbim"
      }
    },
    {
      "cell_type": "code",
      "source": [
        "import logging\n",
        "\n",
        "try:\n",
        "  4/0\n",
        "except Exception as e:\n",
        "  logging.exception(e)\n",
        "  raise"
      ],
      "metadata": {
        "colab": {
          "base_uri": "https://localhost:8080/",
          "height": 321
        },
        "id": "GXvSGDqkX1bK",
        "outputId": "93a72164-65ff-4f2d-afcd-c745b48e4d99"
      },
      "execution_count": 1,
      "outputs": [
        {
          "output_type": "stream",
          "name": "stderr",
          "text": [
            "ERROR:root:division by zero\n",
            "Traceback (most recent call last):\n",
            "  File \"<ipython-input-1-a6a2465d016f>\", line 4, in <module>\n",
            "    4/0\n",
            "ZeroDivisionError: division by zero\n"
          ]
        },
        {
          "output_type": "error",
          "ename": "ZeroDivisionError",
          "evalue": "ignored",
          "traceback": [
            "\u001b[0;31m---------------------------------------------------------------------------\u001b[0m",
            "\u001b[0;31mZeroDivisionError\u001b[0m                         Traceback (most recent call last)",
            "\u001b[0;32m<ipython-input-1-a6a2465d016f>\u001b[0m in \u001b[0;36m<module>\u001b[0;34m\u001b[0m\n\u001b[1;32m      2\u001b[0m \u001b[0;34m\u001b[0m\u001b[0m\n\u001b[1;32m      3\u001b[0m \u001b[0;32mtry\u001b[0m\u001b[0;34m:\u001b[0m\u001b[0;34m\u001b[0m\u001b[0;34m\u001b[0m\u001b[0m\n\u001b[0;32m----> 4\u001b[0;31m   \u001b[0;36m4\u001b[0m\u001b[0;34m/\u001b[0m\u001b[0;36m0\u001b[0m\u001b[0;34m\u001b[0m\u001b[0;34m\u001b[0m\u001b[0m\n\u001b[0m\u001b[1;32m      5\u001b[0m \u001b[0;32mexcept\u001b[0m \u001b[0mException\u001b[0m \u001b[0;32mas\u001b[0m \u001b[0me\u001b[0m\u001b[0;34m:\u001b[0m\u001b[0;34m\u001b[0m\u001b[0;34m\u001b[0m\u001b[0m\n\u001b[1;32m      6\u001b[0m   \u001b[0mlogging\u001b[0m\u001b[0;34m.\u001b[0m\u001b[0mexception\u001b[0m\u001b[0;34m(\u001b[0m\u001b[0me\u001b[0m\u001b[0;34m)\u001b[0m\u001b[0;34m\u001b[0m\u001b[0;34m\u001b[0m\u001b[0m\n",
            "\u001b[0;31mZeroDivisionError\u001b[0m: division by zero"
          ]
        }
      ]
    },
    {
      "cell_type": "markdown",
      "source": [
        "##Q4. Describe two methods for specifying the text of an exception object&#39;s error message.\n",
        "\n",
        "### ANS \n",
        "\n",
        "1.   We can print the text of an exception, by using the object of an Exception class. We can access different attributes like messgae, args, traceback from that object.\n",
        "2. By using logging.error() method\n",
        "\n",
        "\n"
      ],
      "metadata": {
        "id": "3vRGKPLmWbmB"
      }
    },
    {
      "cell_type": "code",
      "source": [
        "try:\n",
        "  a='abc'\n",
        "  b=2\n",
        "  c=a+b\n",
        "except TypeError as e:\n",
        "  print(e)"
      ],
      "metadata": {
        "colab": {
          "base_uri": "https://localhost:8080/"
        },
        "id": "qjdgcKazYQGp",
        "outputId": "c950c80a-a587-43b7-edfd-e6d2e8e5fc10"
      },
      "execution_count": 2,
      "outputs": [
        {
          "output_type": "stream",
          "name": "stdout",
          "text": [
            "can only concatenate str (not \"int\") to str\n"
          ]
        }
      ]
    },
    {
      "cell_type": "code",
      "source": [
        "try:\n",
        "  file = open('test.txt','r')\n",
        "except Exception as e:\n",
        "  logging.error(e)"
      ],
      "metadata": {
        "colab": {
          "base_uri": "https://localhost:8080/"
        },
        "id": "Y4raC8evYbbh",
        "outputId": "d2ff9dcd-0d07-4c97-b5e7-cfc173c87f1d"
      },
      "execution_count": 3,
      "outputs": [
        {
          "output_type": "stream",
          "name": "stderr",
          "text": [
            "ERROR:root:[Errno 2] No such file or directory: 'test.txt'\n"
          ]
        }
      ]
    },
    {
      "cell_type": "markdown",
      "source": [
        "##Q5. Why do you no longer use string-based exceptions?\n",
        "### ANS In Python versions 1.5 and earlier, Exceptions were strings and not classes. Now all exceptions are classes, derived from the superclass BaseException. With classes it is more efficiently handled as classes have many useful features."
      ],
      "metadata": {
        "id": "SKx518k0Wbu4"
      }
    }
  ]
}