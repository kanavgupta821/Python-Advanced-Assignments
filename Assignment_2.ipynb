{
  "nbformat": 4,
  "nbformat_minor": 0,
  "metadata": {
    "colab": {
      "provenance": []
    },
    "kernelspec": {
      "name": "python3",
      "display_name": "Python 3"
    },
    "language_info": {
      "name": "python"
    }
  },
  "cells": [
    {
      "cell_type": "markdown",
      "source": [
        "##Q1. What is the relationship between classes and modules?\n",
        "\n",
        "### ANS Modules are about providing methods that you can use across multiple classes. Modules are about functions. You dont instantiate modules(e.g. Math module) you just use methods in them.   Module is like library of methods. \n",
        "###Classes are about objects; it can hold its state (by keeping track of instance variables) and be duplicated as many times as you want. "
      ],
      "metadata": {
        "id": "fbVffu7pFL6Q"
      }
    },
    {
      "cell_type": "markdown",
      "source": [
        "##Q2. How do you make instances and classes?\n",
        "\n",
        "### ANS To create instances of a class, you call the class using class name and pass in whatever arguments its init method accepts.\n",
        "####The class statement creates a new class definition. The name of the class immediately follows the keyword class followed by a colon.Explained below "
      ],
      "metadata": {
        "id": "cwxVm78iFMjN"
      }
    },
    {
      "cell_type": "code",
      "source": [
        "class Student:\n",
        "  def __init__(self,name):\n",
        "    self.name = name\n",
        "  \n",
        "  def __str__(self):\n",
        "    return f\"this is {self.name} (an instance of a class Student)\"\n",
        "\n",
        "student1 = Student('john')\n",
        "print(student1)"
      ],
      "metadata": {
        "colab": {
          "base_uri": "https://localhost:8080/"
        },
        "id": "06vBsb7aGZeX",
        "outputId": "7b70e31a-4994-43e4-bd88-fc6814a4190c"
      },
      "execution_count": 1,
      "outputs": [
        {
          "output_type": "stream",
          "name": "stdout",
          "text": [
            "this is john (an instance of a class Student)\n"
          ]
        }
      ]
    },
    {
      "cell_type": "markdown",
      "source": [
        "##Q3. Where and how should be class attributes created?\n",
        "\n",
        "### ANS Class attributes belong to the class itself they will be shared by all the instances. Such attributes are defined in the class body parts usually at the top, for legibility."
      ],
      "metadata": {
        "id": "Jn0wycM3FMmt"
      }
    },
    {
      "cell_type": "code",
      "source": [
        "## example\n",
        "class Employee:\n",
        "  company = 'ABC'  # class attribute\n",
        "\n",
        "  def __init__(self):\n",
        "    self.name = 'xyz'\n",
        "    self.salary = 50000\n",
        "\n",
        "  def __str__(self):\n",
        "    return f\"This is {self.name} (an instance of a class Employee)\"\n",
        "\n",
        "emp1 = Employee()\n",
        "print(emp1.company)"
      ],
      "metadata": {
        "colab": {
          "base_uri": "https://localhost:8080/"
        },
        "id": "fd46NzmWHHlc",
        "outputId": "190a3774-366f-4cd8-e5cf-775a70c2e6ce"
      },
      "execution_count": 2,
      "outputs": [
        {
          "output_type": "stream",
          "name": "stdout",
          "text": [
            "ABC\n"
          ]
        }
      ]
    },
    {
      "cell_type": "markdown",
      "source": [
        "##Q4. Where and how are instance attributes created?\n",
        "### ANS Unlike class attributes, instance attributes are not shared by objects. Every object has its own copy of the instance attribute. They are created in init method. How they are created is explained below:\n"
      ],
      "metadata": {
        "id": "khdnvplaFMp6"
      }
    },
    {
      "cell_type": "code",
      "source": [
        "## example\n",
        "class Employee:\n",
        "  company = 'ABC'  # class attribute\n",
        "\n",
        "  def __init__(self,name,salary):\n",
        "    self.name = name\n",
        "    self.salary = salary\n",
        "\n",
        "  def __str__(self):\n",
        "    return f\"This is {self.name} (an instance of a class Employee)\"\n",
        "\n",
        "emp1 = Employee('XYZ', 50000)\n",
        "print(emp1.name)       # attribute are accessed by objects\n",
        "print(emp1.salary)"
      ],
      "metadata": {
        "colab": {
          "base_uri": "https://localhost:8080/"
        },
        "id": "7wKOShPtIgAo",
        "outputId": "336b8b1e-53b5-4220-9377-cc8c8fc3feb9"
      },
      "execution_count": 3,
      "outputs": [
        {
          "output_type": "stream",
          "name": "stdout",
          "text": [
            "XYZ\n",
            "50000\n"
          ]
        }
      ]
    },
    {
      "cell_type": "markdown",
      "source": [
        "##Q5. What does the term &quot;self&quot; in a Python class mean?\n",
        "\n",
        "### ANS Self represents the instance of the class. By using the “self” keyword we can access the attributes and methods of the class in python. It binds the attributes with the given arguments.The reason you need to use self. is because Python does not use the @ syntax to refer to instance attributes. Python decided to do methods in a way that makes the instance to which the method belongs be passed automatically, but not received automatically: the first parameter of methods is the instance the method is called on."
      ],
      "metadata": {
        "id": "9Ovloa4vFMrp"
      }
    },
    {
      "cell_type": "markdown",
      "source": [
        "##Q6. How does a Python class handle operator overloading?\n",
        "\n",
        "### ANS Operator Overloading means giving extended meaning beyond their predefined operational meaning. For example operator + is used to add two integers as well as join two strings and merge two lists. It is achievable because ‘+’ operator is overloaded by int class and str class."
      ],
      "metadata": {
        "id": "DW36Lh-mFMt-"
      }
    },
    {
      "cell_type": "code",
      "source": [
        "# + and * operator is used for different purpose\n",
        "\n",
        "print(1 + 2)\n",
        " \n",
        "# concatenate two strings\n",
        "print(\"abcd\"+\"efgh\")\n",
        " \n",
        "# Product two numbers\n",
        "print(4*15)\n",
        " \n",
        "# Repeat the String\n",
        "print(\"Ineuron\"*4)"
      ],
      "metadata": {
        "colab": {
          "base_uri": "https://localhost:8080/"
        },
        "id": "knplPEf3Jrz2",
        "outputId": "45601789-cdd7-4b33-91bb-8956c85a9256"
      },
      "execution_count": 5,
      "outputs": [
        {
          "output_type": "stream",
          "name": "stdout",
          "text": [
            "3\n",
            "abcdefgh\n",
            "60\n",
            "IneuronIneuronIneuronIneuron\n"
          ]
        }
      ]
    },
    {
      "cell_type": "markdown",
      "source": [
        "##Q7. When do you consider allowing operator overloading of your classes?\n",
        "\n",
        "### ANS Let us assume we have an object called string1 which is a string object as defined below. Now, when we try to add a string to this string object, the compiler will throw an error. This is because the compiler doesn't know how to add them."
      ],
      "metadata": {
        "id": "o_UyFYesFMwc"
      }
    },
    {
      "cell_type": "code",
      "source": [
        "# declare our own string class\n",
        "class String:\n",
        "    def __init__(self, string):\n",
        "            self.string = string         \n",
        "    def __repr__(self):\n",
        "        return 'Object: {}'.format(self.string)\n",
        "\n",
        "string1 = String('Hello')    \n",
        "\n",
        "# concatenate String object and a string\n",
        "print(string1 +' world')"
      ],
      "metadata": {
        "colab": {
          "base_uri": "https://localhost:8080/",
          "height": 200
        },
        "id": "g0RshLR_J8L6",
        "outputId": "5e05f370-efe7-4899-e340-db48abb5bb96"
      },
      "execution_count": 7,
      "outputs": [
        {
          "output_type": "error",
          "ename": "TypeError",
          "evalue": "ignored",
          "traceback": [
            "\u001b[0;31m---------------------------------------------------------------------------\u001b[0m",
            "\u001b[0;31mTypeError\u001b[0m                                 Traceback (most recent call last)",
            "\u001b[0;32m<ipython-input-7-57c4524b4029>\u001b[0m in \u001b[0;36m<module>\u001b[0;34m\u001b[0m\n\u001b[1;32m      9\u001b[0m \u001b[0;34m\u001b[0m\u001b[0m\n\u001b[1;32m     10\u001b[0m \u001b[0;31m# concatenate String object and a string\u001b[0m\u001b[0;34m\u001b[0m\u001b[0;34m\u001b[0m\u001b[0m\n\u001b[0;32m---> 11\u001b[0;31m \u001b[0mprint\u001b[0m\u001b[0;34m(\u001b[0m\u001b[0mstring1\u001b[0m \u001b[0;34m+\u001b[0m\u001b[0;34m' world'\u001b[0m\u001b[0;34m)\u001b[0m\u001b[0;34m\u001b[0m\u001b[0;34m\u001b[0m\u001b[0m\n\u001b[0m",
            "\u001b[0;31mTypeError\u001b[0m: unsupported operand type(s) for +: 'String' and 'str'"
          ]
        }
      ]
    },
    {
      "cell_type": "markdown",
      "source": [
        "###This error can be avoided by adding the __ add__ method to the String class. This way, we are overloading the + operator to concatenate a string object with a string.\n"
      ],
      "metadata": {
        "id": "H1W_cClGJ-vw"
      }
    },
    {
      "cell_type": "code",
      "source": [
        "# declare our own string class\n",
        "class String:\n",
        "    def __init__(self, string):\n",
        "            self.string = string         \n",
        "                \n",
        "    def __add__(self, other):\n",
        "          return self.string + other\n",
        "            \n",
        "    def __repr__(self):\n",
        "        return 'Object: {}'.format(self.string)\n",
        "\n",
        "string1 = String('Hello')    \n",
        "\n",
        "# concatenate String object and a string\n",
        "print(string1 +' world')"
      ],
      "metadata": {
        "colab": {
          "base_uri": "https://localhost:8080/"
        },
        "id": "pE9ulCYrKGbz",
        "outputId": "183fd371-4246-405e-d749-053b82d36eed"
      },
      "execution_count": 6,
      "outputs": [
        {
          "output_type": "stream",
          "name": "stdout",
          "text": [
            "Hello world\n"
          ]
        }
      ]
    },
    {
      "cell_type": "markdown",
      "source": [
        "##Q8. What is the most popular form of operator overloading?\n",
        "\n",
        "### ANS A very popular and convenient example is the Addition (+) operator. Just think how the '+' operator operates on two numbers and the same operator operates on two strings. It performs “Addition” on numbers whereas it performs “Concatenation” on strings."
      ],
      "metadata": {
        "id": "6DbQR4G9FM0E"
      }
    },
    {
      "cell_type": "markdown",
      "source": [
        "##Q9. What are the two most important concepts to grasp in order to comprehend Python OOP code?\n",
        "### ANS 1. Inheritance\n",
        "###    2. Polymorphism"
      ],
      "metadata": {
        "id": "2fqLPv1ZFNFy"
      }
    }
  ]
}