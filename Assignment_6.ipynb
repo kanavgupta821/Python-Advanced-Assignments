{
  "nbformat": 4,
  "nbformat_minor": 0,
  "metadata": {
    "colab": {
      "provenance": []
    },
    "kernelspec": {
      "name": "python3",
      "display_name": "Python 3"
    },
    "language_info": {
      "name": "python"
    }
  },
  "cells": [
    {
      "cell_type": "markdown",
      "source": [
        "##Q1. Describe three applications for exception processing.\n",
        "\n",
        "### ANS Exceptions are raised when the program is syntactically correct, but the code resulted in an error. This error does not stop the execution of the program, however, it changes the normal flow of the program."
      ],
      "metadata": {
        "id": "YTgaWYV2Ha8j"
      }
    },
    {
      "cell_type": "code",
      "source": [
        "def div(a,b):\n",
        "  try:\n",
        "    # code executes here      \n",
        "    c = a/b\n",
        "    print('a/b = ',c)\n",
        "    # Using exception object with the except statement  \n",
        "  except Exception as e:\n",
        "    print(e)\n",
        "    return \"can't divide by zero\"\n",
        "  else:\n",
        "    return \"this is else block and executed when code in try executes without any exception\"\n",
        "\n",
        "a = int(input('enter a: '))\n",
        "b = int(input('enter b: '))\n",
        "print(div(a,b))"
      ],
      "metadata": {
        "colab": {
          "base_uri": "https://localhost:8080/"
        },
        "id": "3E-sQF2IIQWM",
        "outputId": "335edf30-d364-43be-dbfa-7e5787b87461"
      },
      "execution_count": 1,
      "outputs": [
        {
          "output_type": "stream",
          "name": "stdout",
          "text": [
            "enter a: 8\n",
            "enter b: 0\n",
            "division by zero\n",
            "can't divide by zero\n"
          ]
        }
      ]
    },
    {
      "cell_type": "code",
      "source": [
        "try:\n",
        "  f = open('sample.txt','r')\n",
        "except Exception as e:\n",
        "  print(e)\n",
        "else:\n",
        "  print(\"File opened successfully\")\n",
        "  f.close()\n",
        "    \n",
        "print('Program is not interrupted')    \n",
        "\n",
        "\n",
        "# If we dont use try except else blocks, normal execution of program will be interrupted.\n",
        "\n",
        "# with try except, exception is caught when file is not found but program continues execution"
      ],
      "metadata": {
        "colab": {
          "base_uri": "https://localhost:8080/"
        },
        "id": "9hkHLSEUJFQ0",
        "outputId": "036b3781-eaaf-4e03-d424-22e904c6b9ec"
      },
      "execution_count": 2,
      "outputs": [
        {
          "output_type": "stream",
          "name": "stdout",
          "text": [
            "[Errno 2] No such file or directory: 'sample.txt'\n",
            "Program is not interrupted\n"
          ]
        }
      ]
    },
    {
      "cell_type": "code",
      "source": [
        "try:\n",
        "  raise NameError('abc')\n",
        "except NameError as e:\n",
        "  print(\"Exception !\")"
      ],
      "metadata": {
        "colab": {
          "base_uri": "https://localhost:8080/"
        },
        "id": "XTiwDbyAJWA2",
        "outputId": "dd2aa71b-4f05-4bfa-f67c-a9aab7bd47c1"
      },
      "execution_count": 3,
      "outputs": [
        {
          "output_type": "stream",
          "name": "stdout",
          "text": [
            "Exception !\n"
          ]
        }
      ]
    },
    {
      "cell_type": "markdown",
      "source": [
        "##Q2. What happens if you don&#39;t do something extra to treat an exception?\n",
        "\n",
        "### ANS When an exception occurred, if you don't handle it, the program terminates abruptly and the code past the line that caused the exception will not get executed."
      ],
      "metadata": {
        "id": "KZ4q-RYZHa-4"
      }
    },
    {
      "cell_type": "markdown",
      "source": [
        "##Q3. What are your options for recovering from an exception in your script?\n",
        "### ANS In except block, we write a code to handle exception and next set of actions.\n",
        "\n"
      ],
      "metadata": {
        "id": "33lEWXpIHbBn"
      }
    },
    {
      "cell_type": "code",
      "source": [
        "def askint():\n",
        "  while True:\n",
        "    try:\n",
        "      a = int(input(\"enter an integer value: \"))\n",
        "    except Exception as e:\n",
        "      print(e)\n",
        "      print('Please enter an integer value ')\n",
        "      continue\n",
        "    else:\n",
        "      print(f'Yes you have entered an integer {a}')\n",
        "      break\n",
        "    finally:\n",
        "      print('Yayy i always executes !!')\n",
        "\n",
        "askint()"
      ],
      "metadata": {
        "colab": {
          "base_uri": "https://localhost:8080/"
        },
        "id": "8BK-JRQOKVkV",
        "outputId": "0439d1ba-2ad5-4c74-e4ed-35fd5894b02d"
      },
      "execution_count": 4,
      "outputs": [
        {
          "output_type": "stream",
          "name": "stdout",
          "text": [
            "enter an integer value: abc\n",
            "invalid literal for int() with base 10: 'abc'\n",
            "Please enter an integer value \n",
            "Yayy i always executes !!\n",
            "enter an integer value: 7\n",
            "Yes you have entered an integer 7\n",
            "Yayy i always executes !!\n"
          ]
        }
      ]
    },
    {
      "cell_type": "markdown",
      "source": [
        "##Q4. Describe two methods for triggering exceptions in your script.\n",
        "### ANS Try statement – This method throws the exceptions when the code within try is executed.\n",
        "\n",
        "###Raise – Triggers an exception manually using custom exceptions.\n",
        "\n",
        "###Examples are already explained above.\n",
        "\n"
      ],
      "metadata": {
        "id": "JzwOIrOvHbEI"
      }
    },
    {
      "cell_type": "markdown",
      "source": [
        "##Q5. Identify two methods for specifying actions to be executed at termination time, regardless of whether or not an exception exists.\n",
        "### ANS In else block, code is written to handle if no exception is raised by code in try block.\n",
        "\n",
        "###In finally block, code executes regardless of whether or not an exception exists."
      ],
      "metadata": {
        "id": "PuPuM3u3HbHt"
      }
    }
  ]
}