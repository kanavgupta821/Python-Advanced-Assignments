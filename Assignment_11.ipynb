{
  "nbformat": 4,
  "nbformat_minor": 0,
  "metadata": {
    "colab": {
      "provenance": []
    },
    "kernelspec": {
      "name": "python3",
      "display_name": "Python 3"
    },
    "language_info": {
      "name": "python"
    }
  },
  "cells": [
    {
      "cell_type": "markdown",
      "source": [
        "##Q1. What is the concept of a metaclass?\n",
        "\n",
        "### ANS A metaclass in Python is a class of a class that defines how a class behaves. A class is itself an instance of a metaclass. A class in Python defines how the instance of the class will behave.\n",
        "###A Class is also an object, and just like any other object it’s a instance of something called Metaclass. A special class type creates these Class object. The type class is default metaclass which is responsible for making classes."
      ],
      "metadata": {
        "id": "imZlumDD1aEm"
      }
    },
    {
      "cell_type": "markdown",
      "source": [
        "##Q2. What is the best way to declare a class&#39;s metaclass?\n",
        "\n",
        "### ANS When defining a class and no metaclass is defined the default type metaclass will be used. If a metaclass is given and it is not an instance of type(), then it is used directly as the metaclass."
      ],
      "metadata": {
        "id": "ysC2qdzk1aJv"
      }
    },
    {
      "cell_type": "code",
      "source": [
        "class A(type):\n",
        "  pass\n",
        "class B(metaclass=A):        # for class B, class A is a metaclass\n",
        "  pass\n",
        "class C(B):\n",
        "  pass\n",
        "\n",
        "print(type(A))\n",
        "print(type(B))\n",
        "print(type(C))"
      ],
      "metadata": {
        "colab": {
          "base_uri": "https://localhost:8080/"
        },
        "id": "ZwRGNzcj2wCS",
        "outputId": "9949d678-5610-4bcc-e4dd-8c204ccc728d"
      },
      "execution_count": 1,
      "outputs": [
        {
          "output_type": "stream",
          "name": "stdout",
          "text": [
            "<class 'type'>\n",
            "<class '__main__.A'>\n",
            "<class '__main__.A'>\n"
          ]
        }
      ]
    },
    {
      "cell_type": "markdown",
      "source": [
        "##Q3. How do class decorators overlap with metaclasses for handling classes?\n",
        "### ANS Both decorators and metaclass have some common things. When we want to apply some common functionality to attributes of the class instances, both can be used. There are some problems which can be solved by decorators as well as by metaclasses. But there are a few problems that can only be solved by metaclasses. Use of metaclass affects its children while the decorator affects only the current class."
      ],
      "metadata": {
        "id": "aw-OrleK1aO6"
      }
    },
    {
      "cell_type": "markdown",
      "source": [
        "##Q4. How do class decorators overlap with metaclasses for handling instances?\n",
        "### ANS Both decorators and metaclass have some common things. When we want to apply some common functionality to attributes of the class instances, both can be used. There are some problems which can be solved by decorators as well as by metaclasses. But there are a few problems that can only be solved by metaclasses. Use of metaclass affects its children while the decorator affects only the current class."
      ],
      "metadata": {
        "id": "GCPrU5F41aUz"
      }
    }
  ]
}