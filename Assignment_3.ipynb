{
  "nbformat": 4,
  "nbformat_minor": 0,
  "metadata": {
    "colab": {
      "provenance": []
    },
    "kernelspec": {
      "name": "python3",
      "display_name": "Python 3"
    },
    "language_info": {
      "name": "python"
    }
  },
  "cells": [
    {
      "cell_type": "markdown",
      "source": [
        "##1. What is the concept of an abstract superclass?\n",
        "\n",
        "### ANS A class is called an Abstract class if it contains one or more abstract methods. An abstract method is a method that is declared, but contains no implementation. Abstract classes may not be instantiated, and its abstract methods must be implemented by its subclasses."
      ],
      "metadata": {
        "id": "KV795l31KhtY"
      }
    },
    {
      "cell_type": "code",
      "source": [
        "import abc\n",
        "\n",
        "class Shape(metaclass=abc.ABCMeta):\n",
        "  @abc.abstractmethod\n",
        "  def area(self):\n",
        "    pass\n",
        "\n",
        "class Rectangle(Shape):\n",
        "  def __init__(self,x,y):\n",
        "    self.l = x\n",
        "    self.b = y\n",
        "\n",
        "  def area(self):\n",
        "    return self.l*self.b\n",
        "\n",
        "r = Rectangle(10,5)\n",
        "print('area: ',r.area())"
      ],
      "metadata": {
        "colab": {
          "base_uri": "https://localhost:8080/"
        },
        "id": "1ahhkGq5LU8q",
        "outputId": "45bf2e97-e6ce-4a61-ccba-18c6bfc5b2f8"
      },
      "execution_count": 1,
      "outputs": [
        {
          "output_type": "stream",
          "name": "stdout",
          "text": [
            "area:  50\n"
          ]
        }
      ]
    },
    {
      "cell_type": "markdown",
      "source": [
        "###The 'abc' module in Python library provides the infrastructure for defining custom abstract base classes.\n",
        "\n",
        "###'abc' works by marking methods of the base class as abstract. This is done by @absttractmethod decorator. A concrete class which is a sub class of such abstract base class then implements the abstract base by overriding its abstract methods.\n",
        "\n",
        "###The abc module defines ABCMeta class which is a metaclass for defining abstract base class. Following example defines Shape class as an abstract base class using ABCMeta. The shape class has area() method decorated by abstractmethod.\n",
        "\n",
        "###A Rectangle class now uses above Shape class as its parent and implementing the abstract area() method. Since it is a concrete class, it can be instantiated and imlemented area() method can be called."
      ],
      "metadata": {
        "id": "pC7wKZfaL6-T"
      }
    },
    {
      "cell_type": "markdown",
      "source": [
        "##2. What happens when a class statement&#39;s top level contains a basic assignment statement?\n",
        "\n",
        "### ANS When class statement's top level contains a basic assignment statement, it is considered as class attribute. Change in the value of class attribute will affect all the instances of the class."
      ],
      "metadata": {
        "id": "JACWZaivKjWF"
      }
    },
    {
      "cell_type": "code",
      "source": [
        "class Sample:\n",
        "    some_value = 1234\n",
        "    \n",
        "    def __init__(self, value1):\n",
        "        self.value1 = value1\n",
        "        \n",
        "s = Sample(2)       \n",
        "s1 = Sample(5)\n",
        "\n",
        "print(s.some_value)\n",
        "print(s.value1)\n",
        "print(s1.value1)\n",
        "\n",
        "Sample.some_value = 987\n",
        "print(s.some_value) #observe value is changed for both the objects\n",
        "print(s1.some_value)"
      ],
      "metadata": {
        "colab": {
          "base_uri": "https://localhost:8080/"
        },
        "id": "_bxBO1C1NJim",
        "outputId": "3acbed8c-a127-4754-cec5-8ec2780523b0"
      },
      "execution_count": 3,
      "outputs": [
        {
          "output_type": "stream",
          "name": "stdout",
          "text": [
            "1234\n",
            "2\n",
            "5\n",
            "987\n",
            "987\n"
          ]
        }
      ]
    },
    {
      "cell_type": "markdown",
      "source": [
        "##3. Why does a class need to manually call a superclass&#39;s __init__ method?\n",
        "\n",
        "### ANS By doing so,we can access those methods of the super-class (parent class) which have been overridden in a sub-class (child class) that inherits from it."
      ],
      "metadata": {
        "id": "MpUrdE14Kjat"
      }
    },
    {
      "cell_type": "markdown",
      "source": [
        "##4. How can you augment, instead of completely replacing, an inherited method?\n",
        "\n",
        "### ANS The way to do that in Python is by calling to the original version directly, with augmented arguments."
      ],
      "metadata": {
        "id": "eLQuv9gDKjd1"
      }
    },
    {
      "cell_type": "markdown",
      "source": [
        "##5. How is the local scope of a class different from that of a function?\n",
        "### ANS In class, if the variable is declared without self then it is accessible within that function only, kinda local variable. However if it declared using self like self.variable_name = 'somevalue', then it is accessible via any object but not via the class name.\n",
        "\n",
        "###Whereas, if a variable is declared within a function then it is a local variable and is accessible to that function only"
      ],
      "metadata": {
        "id": "1c7Vst7oKjtZ"
      }
    }
  ]
}