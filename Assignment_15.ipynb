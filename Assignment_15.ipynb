{
  "nbformat": 4,
  "nbformat_minor": 0,
  "metadata": {
    "colab": {
      "provenance": []
    },
    "kernelspec": {
      "name": "python3",
      "display_name": "Python 3"
    },
    "language_info": {
      "name": "python"
    }
  },
  "cells": [
    {
      "cell_type": "markdown",
      "source": [
        "##1. What are the new features added in Python 3.8 version?\n",
        "### ANS Positional-only parameters(/)\n",
        "\n",
        "###There is a new function parameter syntax “/” which indicates that some function parameters must be specified positionally and can’t be used as keyword arguments.\n",
        "\n",
        "###Assignment Expressions(:=)\n",
        "\n",
        "###This operator is used to assign and return a value in the same expression. This removes the need for initializing the variable upfront.\n",
        "\n",
        "###f-strings now support “=”\n",
        "\n",
        "###This string formatting mechanism is known as Literal String Interpolation or more commonly as F-strings (because of the leading f character preceding the string literal). The idea behind f-strings is to make string interpolation simpler. Python 3.8 allows the use of the above-discussed assignment operator and equal sign (=) inside the f-strings.\n",
        "\n",
        "###reversed() works with a dictionary Unlike Python 3.7, now in Python 3.8, the built-in method “reversed()” can be used for accessing the elements in the reverse order of insertion.\n",
        "\n",
        "###No parentheses for return and yield statements ‘yield’ and ‘return’ statements do not require parentheses to return multiple values.\n",
        "\n",
        "###pow() function In the three-argument form of pow(), when the exponent is -1, it calculates the modular multiplicative inverse of the given value.\n",
        "\n",
        "###Syntax Warning If you miss a comma in your code such as a = [(1, 2) (3, 4)], instead of throwing TypeError, it displays an informative Syntax warning."
      ],
      "metadata": {
        "id": "SzO-KkrvC6QM"
      }
    },
    {
      "cell_type": "markdown",
      "source": [
        "##2. What is monkey patching in Python?\n",
        "### ANS Monkey patching in python refers to modifying or updating a piece of code or class or any module at the runtime. In simple words, we can change the behavior or working of a class/ module at the runtime without changing the whole python code."
      ],
      "metadata": {
        "id": "DW7Lg4ufC6TI"
      }
    },
    {
      "cell_type": "markdown",
      "source": [
        "##3. What is the difference between a shallow copy and deep copy?\n",
        "### ANS **Shallow Copy**\n",
        "###Shallow Copy stores the references of objects to the original memory address. Shallow Copy reflects changes made to the new/copied object in the original object.Shallow Copy stores the copy of the original object and points the references to the objects. Shallow copy is faster.\n",
        "### **Deep Copy**\n",
        "### Deep copy stores copies of the object’s value. Deep copy doesn’t reflect changes made to the new/copied object in the original object. Deep copy stores the copy of the original object and recursively copies the objects as well. Deep copy is comparatively slower."
      ],
      "metadata": {
        "id": "wO0d_UV7C6Vf"
      }
    },
    {
      "cell_type": "markdown",
      "source": [
        "##4. What is the maximum possible length of an identifier?\n",
        "### ANS The maximum possible length of an identifier is not defined in Python. It can be any number."
      ],
      "metadata": {
        "id": "tWRxDp8EC6Yz"
      }
    },
    {
      "cell_type": "markdown",
      "source": [
        "##5. What is generator comprehension?\n",
        "### ANS It is like a list comprehension but it returns an iteraor. We use () instead of [] to achieve this."
      ],
      "metadata": {
        "id": "n9Tkj1lpC6nc"
      }
    },
    {
      "cell_type": "code",
      "source": [
        "n = ((i, i**2) for i in range(5))\n",
        "print(n)\n",
        "print(next(n))\n",
        "print(next(n))\n",
        "print(next(n))\n",
        "print(next(n))\n",
        "print(next(n))"
      ],
      "metadata": {
        "colab": {
          "base_uri": "https://localhost:8080/"
        },
        "id": "ZGZ0FOy9EjEX",
        "outputId": "ce62ab23-bcdd-4244-973a-a392e1f883a0"
      },
      "execution_count": 4,
      "outputs": [
        {
          "output_type": "stream",
          "name": "stdout",
          "text": [
            "<generator object <genexpr> at 0x7feddc306740>\n",
            "(0, 0)\n",
            "(1, 1)\n",
            "(2, 4)\n",
            "(3, 9)\n",
            "(4, 16)\n"
          ]
        }
      ]
    }
  ]
}