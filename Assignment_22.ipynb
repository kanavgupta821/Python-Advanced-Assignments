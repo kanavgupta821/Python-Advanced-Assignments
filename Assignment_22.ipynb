{
  "nbformat": 4,
  "nbformat_minor": 0,
  "metadata": {
    "colab": {
      "provenance": []
    },
    "kernelspec": {
      "name": "python3",
      "display_name": "Python 3"
    },
    "language_info": {
      "name": "python"
    }
  },
  "cells": [
    {
      "cell_type": "markdown",
      "source": [
        "##Q1. What are the benefits of the built-in array package, if any?\n",
        "### ANS The array module provides an efficient way to store and manipulate arrays of homogeneous data types. Arrays created with the array module are more memory-efficient than traditional Python lists because they store data in a contiguous block of memory. This reduces memory overhead and can be particularly useful when dealing with large datasets.\n",
        "\n"
      ],
      "metadata": {
        "id": "mCvZsYURnbjz"
      }
    },
    {
      "cell_type": "markdown",
      "source": [
        "##Q2. What are some of the array package&#39;s limitations?\n",
        "### ANS Arrays created with the array module can only store elements of a single data type. This means that if you need to work with heterogeneous data, such as a combination of integers, floats, and strings, you would need to use a different data structure like a list or a NumPy array.\n",
        "###Compared to more specialized libraries like NumPy, the array module provides a relatively limited set of operations and functions. It doesn't have advanced mathematical functions or a wide range of array manipulation methods. If you require complex array operations, you may find NumPy or other scientific computing libraries more suitable.\n",
        "###The array module does not provide advanced indexing and slicing capabilities like those found in NumPy arrays. You can only access elements using integer indices and perform basic slicing operations.\n",
        "\n"
      ],
      "metadata": {
        "id": "wR8lhVadnbtE"
      }
    },
    {
      "cell_type": "markdown",
      "source": [
        "##Q3. Describe the main differences between the array and numpy packages.\n",
        "\n",
        "### ANS **Array Package**\n",
        "####The array module in Python's standard library provides a basic array data structure with limited functionality. It supports efficient storage and manipulation of arrays of a single data type but lacks advanced mathematical functions and array manipulation capabilities.\n",
        "####The array module enforces a single data type for all elements in an array. When creating an array with the array module, you specify the data type, such as integers or floating-point numbers, and all elements must be of that type.\n",
        "\n",
        "### **NumPy**\n",
        "####NumPy (Numerical Python) is a powerful third-party library specifically designed for numerical computing in Python. It offers a wide range of functionality, including advanced mathematical operations, array manipulation methods, linear algebra routines, Fourier transforms, random number generation, and more. NumPy provides multidimensional arrays (ndarrays) as a core data structure, which allows for efficient and flexible handling of arrays.\n",
        "####NumPy supports arrays of various data types, including integers, floats, booleans, and more. NumPy's ndarray allows for heterogeneous arrays, meaning different elements within the same array can have different data types. This flexibility is useful when working with complex data sets or mixed data types."
      ],
      "metadata": {
        "id": "ZvFDNozGnb1L"
      }
    },
    {
      "cell_type": "markdown",
      "source": [
        "##Q4. Explain the distinctions between the empty, ones, and zeros functions.\n",
        "\n",
        "### ANS The **empty()** function creates a new array without initializing its elements to any particular values. It allocates the required memory for the array but does not set any initial values. \n",
        "###The **ones()** function creates a new array and initializes all its elements to the value 1. You can specify the shape of the array as a tuple or as individual dimensions. The data type of the array is by default float64, but you can specify a different data type using the dtype parameter.\n",
        "###The **zeros()** function creates a new array and initializes all its elements to the value 0. It is similar to the ones() function, but instead of filling the array with 1s, it fills it with 0s. The shape of the array can be specified using a tuple or individual dimensions, and you can also specify the data type using the dtype parameter."
      ],
      "metadata": {
        "id": "oe83bseInb6G"
      }
    },
    {
      "cell_type": "markdown",
      "source": [
        "##Q5. In the fromfunction function, which is used to construct new arrays, what is the role of the callable argument?\n",
        "\n",
        "### ANS Its function is to execute the function over each coordinate and the resulting array. The function is called with N parameters, where N is the rank of shape. Each parameter represents the coordinates of the array varying along a specific axis."
      ],
      "metadata": {
        "id": "13_xxyUpncAv"
      }
    },
    {
      "cell_type": "markdown",
      "source": [
        "##Q6. What happens when a numpy array is combined with a single-value operand (a scalar, such as an int or a floating-point value) through addition, as in the expression A + n?\n",
        "\n",
        "### ANS  If any scaler value such as integer is added to the numpy array then all the elements inside the array will add that value in it.\n",
        "\n"
      ],
      "metadata": {
        "id": "YwK9Vf6WncR1"
      }
    },
    {
      "cell_type": "code",
      "source": [
        "# Example\n",
        "import numpy as np\n",
        "a= np.arange(9).reshape(3,3)\n",
        "print(a)\n",
        "print('-----------')\n",
        "print(a+1)"
      ],
      "metadata": {
        "colab": {
          "base_uri": "https://localhost:8080/"
        },
        "id": "Ye48U5Y5rDjS",
        "outputId": "b8f07a0c-7df3-4f4b-9206-21bb74b1338b"
      },
      "execution_count": 2,
      "outputs": [
        {
          "output_type": "stream",
          "name": "stdout",
          "text": [
            "[[0 1 2]\n",
            " [3 4 5]\n",
            " [6 7 8]]\n",
            "-----------\n",
            "[[1 2 3]\n",
            " [4 5 6]\n",
            " [7 8 9]]\n"
          ]
        }
      ]
    },
    {
      "cell_type": "markdown",
      "source": [
        "##Q7. Can array-to-scalar operations use combined operation-assign operators (such as += or *=)? What is the outcome?\n",
        "\n",
        "### ANS It will do the operation as per operators. Like if we use + operand it will update the current array by adding and when we use '*', it will update by multiplying."
      ],
      "metadata": {
        "id": "LVascvufncdN"
      }
    },
    {
      "cell_type": "code",
      "source": [
        "# Example\n",
        "print(a)"
      ],
      "metadata": {
        "colab": {
          "base_uri": "https://localhost:8080/"
        },
        "id": "uSpIF9wJrjqV",
        "outputId": "0869267a-7a66-46c6-d1c0-82bf7e80eedf"
      },
      "execution_count": 3,
      "outputs": [
        {
          "output_type": "stream",
          "name": "stdout",
          "text": [
            "[[0 1 2]\n",
            " [3 4 5]\n",
            " [6 7 8]]\n"
          ]
        }
      ]
    },
    {
      "cell_type": "code",
      "source": [
        "a += 2\n",
        "print(a)"
      ],
      "metadata": {
        "colab": {
          "base_uri": "https://localhost:8080/"
        },
        "id": "qSl8OP88rnVx",
        "outputId": "d2f046d3-5dfe-4e02-ef72-208274e4ea74"
      },
      "execution_count": 4,
      "outputs": [
        {
          "output_type": "stream",
          "name": "stdout",
          "text": [
            "[[ 2  3  4]\n",
            " [ 5  6  7]\n",
            " [ 8  9 10]]\n"
          ]
        }
      ]
    },
    {
      "cell_type": "code",
      "source": [
        "a *= 2\n",
        "print(a)"
      ],
      "metadata": {
        "colab": {
          "base_uri": "https://localhost:8080/"
        },
        "id": "RXnBk1iSrrVl",
        "outputId": "e75fc28b-07d2-4354-a905-13cd0fef081b"
      },
      "execution_count": 5,
      "outputs": [
        {
          "output_type": "stream",
          "name": "stdout",
          "text": [
            "[[ 4  6  8]\n",
            " [10 12 14]\n",
            " [16 18 20]]\n"
          ]
        }
      ]
    },
    {
      "cell_type": "markdown",
      "source": [
        "##Q8. Does a numpy array contain fixed-length strings? What happens if you allocate a longer string to one of these arrays?\n",
        "\n",
        "### ANS Yes it is possible that we can include a string of fixed length in numpy array. The dtype of any numpy array containing string values is the maximum length of any string present in the array.Once set, it will only be able to store new string having length not more than the maximum length at the time of the creation. If we try to reassign some another string value having length greater than the maximum length of the existing elements, it simply discards all the values beyond the maximum length accept upto those values which are under the limit."
      ],
      "metadata": {
        "id": "Mi29JMnQncm_"
      }
    },
    {
      "cell_type": "code",
      "source": [
        "# Example\n",
        "import numpy as np\n",
        "a = np.array(['abc','defg','hijk'])\n",
        "a"
      ],
      "metadata": {
        "colab": {
          "base_uri": "https://localhost:8080/"
        },
        "id": "E4HV2CZ7sLFR",
        "outputId": "b71b5170-f3bb-46c9-f5cd-00e9c13cebdf"
      },
      "execution_count": 6,
      "outputs": [
        {
          "output_type": "execute_result",
          "data": {
            "text/plain": [
              "array(['abc', 'defg', 'hijk'], dtype='<U4')"
            ]
          },
          "metadata": {},
          "execution_count": 6
        }
      ]
    },
    {
      "cell_type": "code",
      "source": [
        "a[a=='abc']='lmnopq'\n",
        "print(a)"
      ],
      "metadata": {
        "colab": {
          "base_uri": "https://localhost:8080/"
        },
        "id": "ouLriS5ssaR8",
        "outputId": "738ea47e-2f34-4ed8-d3a9-87ceebd948c6"
      },
      "execution_count": 7,
      "outputs": [
        {
          "output_type": "stream",
          "name": "stdout",
          "text": [
            "['lmno' 'defg' 'hijk']\n"
          ]
        }
      ]
    },
    {
      "cell_type": "markdown",
      "source": [
        "##Q9. What happens when you combine two numpy arrays using an operation like addition (+) or multiplication (*)? What are the conditions for combining two numpy arrays?\n",
        "### ANS It will simply add or multiply element to element at same position.The only requirement which must be met are:\n",
        "###1)Data type should be same.\n",
        "###2) Shape of the two matrices must be same.\n",
        "\n"
      ],
      "metadata": {
        "id": "yQQPx7OmncwJ"
      }
    },
    {
      "cell_type": "code",
      "source": [
        "# Example\n",
        "a = np.arange(1,10).reshape(3,3)\n",
        "print(a)"
      ],
      "metadata": {
        "colab": {
          "base_uri": "https://localhost:8080/"
        },
        "id": "B1REaVHTsxrH",
        "outputId": "e9127551-9ea1-4410-8a4c-04e5c5448662"
      },
      "execution_count": 10,
      "outputs": [
        {
          "output_type": "stream",
          "name": "stdout",
          "text": [
            "[[1 2 3]\n",
            " [4 5 6]\n",
            " [7 8 9]]\n"
          ]
        }
      ]
    },
    {
      "cell_type": "code",
      "source": [
        "b = a+3\n",
        "print(b)"
      ],
      "metadata": {
        "colab": {
          "base_uri": "https://localhost:8080/"
        },
        "id": "X945JY-Hs2Zj",
        "outputId": "76b4faa4-edec-467d-ce06-9000fd8e7e80"
      },
      "execution_count": 11,
      "outputs": [
        {
          "output_type": "stream",
          "name": "stdout",
          "text": [
            "[[ 4  5  6]\n",
            " [ 7  8  9]\n",
            " [10 11 12]]\n"
          ]
        }
      ]
    },
    {
      "cell_type": "code",
      "source": [
        "a+b"
      ],
      "metadata": {
        "colab": {
          "base_uri": "https://localhost:8080/"
        },
        "id": "RhLSOHhLtH7z",
        "outputId": "0932a83e-3059-4174-89ad-3a34c2172e6b"
      },
      "execution_count": 12,
      "outputs": [
        {
          "output_type": "execute_result",
          "data": {
            "text/plain": [
              "array([[ 5,  7,  9],\n",
              "       [11, 13, 15],\n",
              "       [17, 19, 21]])"
            ]
          },
          "metadata": {},
          "execution_count": 12
        }
      ]
    },
    {
      "cell_type": "code",
      "source": [
        "a*b"
      ],
      "metadata": {
        "colab": {
          "base_uri": "https://localhost:8080/"
        },
        "id": "J4Ff3tERtKFS",
        "outputId": "c8bc7cd8-c8cf-452c-c921-f4446da29151"
      },
      "execution_count": 13,
      "outputs": [
        {
          "output_type": "execute_result",
          "data": {
            "text/plain": [
              "array([[  4,  10,  18],\n",
              "       [ 28,  40,  54],\n",
              "       [ 70,  88, 108]])"
            ]
          },
          "metadata": {},
          "execution_count": 13
        }
      ]
    },
    {
      "cell_type": "markdown",
      "source": [
        "##Q10. What is the best way to use a Boolean array to mask another array?\n",
        "\n"
      ],
      "metadata": {
        "id": "P0bzIjOcnc5_"
      }
    },
    {
      "cell_type": "code",
      "source": [
        "## ANS\n",
        "x = np.array([True,True,False,True])          \n",
        "y = np.array([1,2,3,4])         \n",
        "m = np.ma.masked_where(y>2,x)  \n",
        "print(list(m))\n",
        "print(m.ndim)"
      ],
      "metadata": {
        "colab": {
          "base_uri": "https://localhost:8080/"
        },
        "id": "UeaBLYnntQ_z",
        "outputId": "6e1fe3f1-81e5-4738-a118-f119deaf2793"
      },
      "execution_count": 15,
      "outputs": [
        {
          "output_type": "stream",
          "name": "stdout",
          "text": [
            "[True, True, masked, masked]\n",
            "1\n"
          ]
        }
      ]
    },
    {
      "cell_type": "markdown",
      "source": [
        "##Q11. What are three different ways to get the standard deviation of a wide collection of data using both standard Python and its packages? Sort the three of them by how quickly they execute.\n",
        "### ANS NumPy:\n",
        "####NumPy provides a function called numpy.std() that calculates the standard deviation of an array efficiently. It is typically the fastest method due to its optimized implementation in C.\n",
        "\n",
        "###Statistics module (Standard Python):\n",
        "####The statistics module in standard Python provides a function called statistics.stdev() to calculate the standard deviation of a list of numbers. Although it is implemented in pure Python, it is still reasonably fast for most common use cases.\n",
        "\n",
        "###Math module (Standard Python):\n",
        "####The math module in standard Python provides a function called math.sqrt() that can be used in conjunction with other mathematical operations to calculate the standard deviation. This method involves more manual calculations and can be slower than the previous two methods.\n"
      ],
      "metadata": {
        "id": "ve1jZD0MndE8"
      }
    },
    {
      "cell_type": "code",
      "source": [
        "# Example\n",
        "# using numpy\n",
        "import numpy as np\n",
        "\n",
        "data = np.array([1, 2, 3, 4, 5])\n",
        "std = np.std(data)\n",
        "print(std)"
      ],
      "metadata": {
        "colab": {
          "base_uri": "https://localhost:8080/"
        },
        "id": "xozZPiT5uK3N",
        "outputId": "80cae0e3-9ba7-440d-c616-aeba575d78c1"
      },
      "execution_count": 17,
      "outputs": [
        {
          "output_type": "stream",
          "name": "stdout",
          "text": [
            "1.4142135623730951\n"
          ]
        }
      ]
    },
    {
      "cell_type": "code",
      "source": [
        "# using statistics\n",
        "import statistics\n",
        "\n",
        "data = [1, 2, 3, 4, 5]\n",
        "std = statistics.stdev(data)\n",
        "print(std)"
      ],
      "metadata": {
        "colab": {
          "base_uri": "https://localhost:8080/"
        },
        "id": "prfBkmJquRxi",
        "outputId": "61f1c8cf-a6bc-4f3b-cc09-07775f0b86bd"
      },
      "execution_count": 18,
      "outputs": [
        {
          "output_type": "stream",
          "name": "stdout",
          "text": [
            "1.5811388300841898\n"
          ]
        }
      ]
    },
    {
      "cell_type": "code",
      "source": [
        "# using math module\n",
        "import math\n",
        "\n",
        "data = [1, 2, 3, 4, 5]\n",
        "mean = sum(data) / len(data)\n",
        "variance = sum((x - mean) ** 2 for x in data) / len(data)\n",
        "std = math.sqrt(variance)\n",
        "print(std)\n"
      ],
      "metadata": {
        "colab": {
          "base_uri": "https://localhost:8080/"
        },
        "id": "t_3XmquauYmd",
        "outputId": "d7b06233-60d2-4062-8474-658c3fe7545d"
      },
      "execution_count": 19,
      "outputs": [
        {
          "output_type": "stream",
          "name": "stdout",
          "text": [
            "1.4142135623730951\n"
          ]
        }
      ]
    },
    {
      "cell_type": "markdown",
      "source": [
        "##12. What is the dimensionality of a Boolean mask-generated array?\n",
        "### ANS The dimensionality of a Boolean mask-generated array depends on the shape of the original array and the logic used to create the mask.\n",
        "\n",
        "###A Boolean mask is an array consisting of Boolean values (True or False) that can be used to select elements from another array. When applying a Boolean mask to an array, the resulting array will have the same dimensionality as the original array, but with only the elements selected by the mask."
      ],
      "metadata": {
        "id": "c6dyyVQqndOE"
      }
    }
  ]
}