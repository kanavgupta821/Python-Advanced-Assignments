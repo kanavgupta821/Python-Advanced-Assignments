{
  "nbformat": 4,
  "nbformat_minor": 0,
  "metadata": {
    "colab": {
      "provenance": []
    },
    "kernelspec": {
      "name": "python3",
      "display_name": "Python 3"
    },
    "language_info": {
      "name": "python"
    }
  },
  "cells": [
    {
      "cell_type": "markdown",
      "source": [
        "##Q1. What is a probability distribution, exactly? If the values are meant to be random, how can you predict them at all?\n",
        "\n",
        "### ANS A probability distribution describes how a random variable is distributed, it tells us which values a random variable is most likely to take on and which values are less likely.Based on the previous data and the occurences of the random event, we can predict the outcome in terms of probabilities."
      ],
      "metadata": {
        "id": "P5k9xXu8_7IV"
      }
    },
    {
      "cell_type": "markdown",
      "source": [
        "##Q2. Is there a distinction between true random numbers and pseudo-random numbers, if there is one? Why are the latter considered “good enough”?\n",
        "### ANS The difference between true random number(TRN) and pseudo-random number(PRN), is that TRN's are unpredictable physical values means (like atmospheric noise), and PRN are generated using mathematical algorithms (completely computer-generated).The PRN's are good enough as they follow a uniform distribution and the seed for generating PRN is unpredictable and unknown.\n",
        "\n"
      ],
      "metadata": {
        "id": "oEb9H2j__7Km"
      }
    },
    {
      "cell_type": "markdown",
      "source": [
        "##Q3. What are the two main factors that influence the behaviour of a &quot;normal&quot; probability distribution?\n",
        "\n",
        "### ANS A normal distribution is determined by two parameters the mean and the variance. A normal distribution with a mean of 0 and a standard deviation of 1 is called a standard normal distribution."
      ],
      "metadata": {
        "id": "lsEdl1v2_7NN"
      }
    },
    {
      "cell_type": "markdown",
      "source": [
        "##Q4. Provide a real-life example of a normal distribution.\n",
        "### ANS “Height of people” is something that follows a normal distribution pattern perfectly: Most people are of average height, the numbers of people that are taller and shorter than average are fairly equal and a very small (and still roughly equivalent) number of people are either extremely tall or extremely short. \n",
        "\n"
      ],
      "metadata": {
        "id": "ToNblWr2_7Qp"
      }
    },
    {
      "cell_type": "markdown",
      "source": [
        "##Q5. In the short term, how can you expect a probability distribution to behave? What do you think will happen as the number of trials grows?\n",
        "### ANS When trails are less, the variance will large. As the number of trials increase , the variance will reduce.\n",
        "\n"
      ],
      "metadata": {
        "id": "zKoXJ02x_7ev"
      }
    },
    {
      "cell_type": "markdown",
      "source": [
        "##Q6. What kind of object can be shuffled by using random.shuffle?\n",
        "\n",
        "### ANS random.shuffle can used to shuffle list object"
      ],
      "metadata": {
        "id": "R2RTS_31_7ok"
      }
    },
    {
      "cell_type": "markdown",
      "source": [
        "##Q7. Describe the math package&#39;s general categories of functions.\n",
        "\n",
        "### ANS he general categories of math package are\n",
        "###1) Trigonometric functions\n",
        "###        2) Quadratic functions\n",
        "###       3) Exponential functions\n",
        "###       4) Hyperbolic functions\n",
        "###       5) Periodic functions\n",
        "###       6) Arithmetic functions\n",
        "###       7) Logarithimic functions\n",
        "###       8) Conversions to Integer"
      ],
      "metadata": {
        "id": "aLYK6HqC_7yL"
      }
    },
    {
      "cell_type": "markdown",
      "source": [
        "##Q8. What is the relationship between exponentiation and logarithms?\n",
        "\n",
        "### ANS The exponential function is given by ƒ(x) = ex, whereas the logarithmic function is given by g(x) = ln x, and  former is the inverse of the latter.\n"
      ],
      "metadata": {
        "id": "85zLCPHM_77U"
      }
    },
    {
      "cell_type": "markdown",
      "source": [
        "##Q9. What are the three logarithmic functions that Python supports?\n",
        "\n",
        "### ANS 1) log2(x) - logarithmic value of x to base 2\n",
        "###2) log10(x) - logarithmic value of x to base 10\n",
        "###       3) log(x,base) - logarithmic value of x to base. If only first parameter is given , it computes its value tp base e,natural logarithm\n",
        "### 4) log1p(x) - natural logarithm (base e) value of 1+x"
      ],
      "metadata": {
        "id": "dMlnO8Tc_8Sl"
      }
    }
  ]
}